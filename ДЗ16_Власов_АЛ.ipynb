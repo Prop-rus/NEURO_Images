{
  "nbformat": 4,
  "nbformat_minor": 0,
  "metadata": {
    "colab": {
      "name": "ДЗ16 Власов АЛ.ipynb",
      "provenance": [],
      "toc_visible": true
    },
    "kernelspec": {
      "name": "python3",
      "display_name": "Python 3"
    },
    "accelerator": "GPU"
  },
  "cells": [
    {
      "cell_type": "markdown",
      "metadata": {
        "id": "Pl-IPY6xroYF"
      },
      "source": [
        "# Лайт"
      ]
    },
    {
      "cell_type": "markdown",
      "metadata": {
        "id": "rz29WfvL4AQp"
      },
      "source": [
        "## Вариант 1"
      ]
    },
    {
      "cell_type": "code",
      "metadata": {
        "id": "u3en8A_UrlIO"
      },
      "source": [
        "from tensorflow.keras.datasets import mnist, cifar10, cifar100\n",
        "from tensorflow.keras.models import Sequential\n",
        "from tensorflow.keras.layers import Dense, Conv2D, BatchNormalization, Dropout, MaxPooling2D, Flatten\n",
        "from tensorflow.python.keras.preprocessing.image import ImageDataGenerator\n",
        "from tensorflow.keras.optimizers import Adadelta, Adam\n",
        "from tensorflow.keras import utils \n",
        "from tensorflow.keras.preprocessing import image\n",
        "# from google.colab import drive\n",
        "import numpy as np\n",
        "import matplotlib.pyplot as plt\n",
        "from PIL import Image\n",
        "import random\n",
        "import math\n",
        "import os\n",
        "import pandas as pd\n",
        "from sklearn.model_selection import train_test_split\n",
        "%matplotlib inline\n"
      ],
      "execution_count": null,
      "outputs": []
    },
    {
      "cell_type": "code",
      "metadata": {
        "id": "y1SJcfD6tkbG",
        "colab": {
          "base_uri": "https://localhost:8080/"
        },
        "outputId": "1213ef1a-8464-4c66-a7e0-699c89271e44"
      },
      "source": [
        "(x_train, y_train), (x_test, y_test) = mnist.load_data()"
      ],
      "execution_count": null,
      "outputs": [
        {
          "output_type": "stream",
          "text": [
            "Downloading data from https://storage.googleapis.com/tensorflow/tf-keras-datasets/mnist.npz\n",
            "11493376/11490434 [==============================] - 3s 0us/step\n"
          ],
          "name": "stdout"
        }
      ]
    },
    {
      "cell_type": "code",
      "metadata": {
        "id": "q2YUt3ZRtzJ0"
      },
      "source": [
        "y_train = utils.to_categorical(y_train, 10)\n",
        "y_test = utils.to_categorical(y_test, 10)\n",
        "x_train = x_train.reshape(x_train.shape[0], 28,28,1)\n",
        "x_test = x_test.reshape(x_test.shape[0], 28,28,1)"
      ],
      "execution_count": null,
      "outputs": []
    },
    {
      "cell_type": "code",
      "metadata": {
        "id": "H5WVT0A6uqHb",
        "colab": {
          "base_uri": "https://localhost:8080/",
          "height": 85
        },
        "outputId": "418f4023-5481-4336-89aa-82e8d954bec6"
      },
      "source": [
        "print(x_train.shape)\n",
        "print(x_test.shape)\n",
        "print(y_train.shape)\n",
        "print(y_test.shape)"
      ],
      "execution_count": null,
      "outputs": [
        {
          "output_type": "stream",
          "text": [
            "(60000, 28, 28, 1)\n",
            "(10000, 28, 28, 1)\n",
            "(60000, 10)\n",
            "(10000, 10)\n"
          ],
          "name": "stdout"
        }
      ]
    },
    {
      "cell_type": "code",
      "metadata": {
        "id": "qJw-U229uqYZ",
        "colab": {
          "base_uri": "https://localhost:8080/",
          "height": 789
        },
        "outputId": "52ba744b-9ca7-4473-e3d3-732f20e7295b"
      },
      "source": [
        "batch_size = 128\n",
        "\n",
        "model = Sequential()\n",
        "model.add(BatchNormalization(input_shape = (28,28,1)))\n",
        "model.add(Conv2D(32, (3,3), padding='same', activation='relu'))\n",
        "model.add(Conv2D(32, (3,3), padding='same', activation='relu'))\n",
        "model.add(MaxPooling2D(pool_size=(2,2)))\n",
        "model.add(Dropout(0.25))\n",
        "model.add(Flatten())\n",
        "model.add(Dense(256, activation='relu'))\n",
        "model.add(Dropout(0.25))\n",
        "model.add(Dense(10, activation='softmax'))\n",
        "\n",
        "model.compile(loss='categorical_crossentropy', optimizer = 'adam', metrics = ['accuracy'])\n",
        "history = model.fit(x_train,\n",
        "                    y_train,\n",
        "                    batch_size = batch_size,\n",
        "                    epochs=15,\n",
        "                    validation_data = (x_test, y_test),\n",
        "                    verbose=1)\n",
        "\n",
        "plt.plot(history.history['accuracy'], label = 'Доля верных ответов на обучающем наборе')\n",
        "plt.plot(history.history['val_accuracy'], label = 'Доля верных ответов на проверочном наборе')\n",
        "plt.xlabel('Эпоха обучения')\n",
        "plt.ylabel('Доля верных ответов')\n",
        "plt.legend()\n",
        "plt.show()"
      ],
      "execution_count": null,
      "outputs": [
        {
          "output_type": "stream",
          "text": [
            "Epoch 1/15\n",
            "469/469 [==============================] - 55s 117ms/step - loss: 0.1606 - accuracy: 0.9503 - val_loss: 0.0454 - val_accuracy: 0.9857\n",
            "Epoch 2/15\n",
            "469/469 [==============================] - 54s 115ms/step - loss: 0.0525 - accuracy: 0.9837 - val_loss: 0.0363 - val_accuracy: 0.9889\n",
            "Epoch 3/15\n",
            "469/469 [==============================] - 52s 111ms/step - loss: 0.0347 - accuracy: 0.9888 - val_loss: 0.0310 - val_accuracy: 0.9897\n",
            "Epoch 4/15\n",
            "469/469 [==============================] - 52s 111ms/step - loss: 0.0263 - accuracy: 0.9918 - val_loss: 0.0280 - val_accuracy: 0.9911\n",
            "Epoch 5/15\n",
            "469/469 [==============================] - 52s 112ms/step - loss: 0.0208 - accuracy: 0.9935 - val_loss: 0.0279 - val_accuracy: 0.9915\n",
            "Epoch 6/15\n",
            "469/469 [==============================] - 52s 112ms/step - loss: 0.0190 - accuracy: 0.9935 - val_loss: 0.0306 - val_accuracy: 0.9912\n",
            "Epoch 7/15\n",
            "469/469 [==============================] - 52s 112ms/step - loss: 0.0148 - accuracy: 0.9948 - val_loss: 0.0281 - val_accuracy: 0.9921\n",
            "Epoch 8/15\n",
            "469/469 [==============================] - 53s 113ms/step - loss: 0.0139 - accuracy: 0.9952 - val_loss: 0.0361 - val_accuracy: 0.9901\n",
            "Epoch 9/15\n",
            "469/469 [==============================] - 53s 113ms/step - loss: 0.0138 - accuracy: 0.9955 - val_loss: 0.0304 - val_accuracy: 0.9918\n",
            "Epoch 10/15\n",
            "469/469 [==============================] - 53s 114ms/step - loss: 0.0110 - accuracy: 0.9961 - val_loss: 0.0338 - val_accuracy: 0.9902\n",
            "Epoch 11/15\n",
            "469/469 [==============================] - 53s 113ms/step - loss: 0.0103 - accuracy: 0.9964 - val_loss: 0.0307 - val_accuracy: 0.9904\n",
            "Epoch 12/15\n",
            "469/469 [==============================] - 53s 113ms/step - loss: 0.0090 - accuracy: 0.9969 - val_loss: 0.0318 - val_accuracy: 0.9922\n",
            "Epoch 13/15\n",
            "469/469 [==============================] - 57s 121ms/step - loss: 0.0075 - accuracy: 0.9975 - val_loss: 0.0418 - val_accuracy: 0.9904\n",
            "Epoch 14/15\n",
            "469/469 [==============================] - 57s 121ms/step - loss: 0.0078 - accuracy: 0.9973 - val_loss: 0.0292 - val_accuracy: 0.9914\n",
            "Epoch 15/15\n",
            "469/469 [==============================] - 57s 122ms/step - loss: 0.0089 - accuracy: 0.9969 - val_loss: 0.0310 - val_accuracy: 0.9914\n"
          ],
          "name": "stdout"
        },
        {
          "output_type": "display_data",
          "data": {
            "text/plain": [
              "<Figure size 432x288 with 1 Axes>"
            ],
            "image/png": "[encoded data removed]"
          },
          "metadata": {
            "tags": [],
            "needs_background": "light"
          }
        }
      ]
    },
    {
      "cell_type": "markdown",
      "metadata": {
        "id": "V1rZfPFo4EBU"
      },
      "source": [
        "## Вариант 2"
      ]
    },
    {
      "cell_type": "markdown",
      "metadata": {
        "id": "E1WuvRSc4Iq8"
      },
      "source": [
        "### 1. "
      ]
    },
    {
      "cell_type": "code",
      "metadata": {
        "id": "PK2tODlH4gmm"
      },
      "source": [
        "indexes = []\n",
        "columns = ['accuracy', 'val_accuracy', 'test_accuracy']\n",
        "model_list = []"
      ],
      "execution_count": null,
      "outputs": []
    },
    {
      "cell_type": "code",
      "metadata": {
        "id": "YuVoBbJRypAY",
        "colab": {
          "base_uri": "https://localhost:8080/",
          "height": 806
        },
        "outputId": "dc128859-4662-469c-8a64-97bbfb438e86"
      },
      "source": [
        "batch_size = 128\n",
        "\n",
        "model = Sequential()\n",
        "model.add(BatchNormalization(input_shape = (28,28,1)))\n",
        "model.add(Conv2D(2, (3,3), padding='same', activation='relu'))\n",
        "# model.add(Conv2D(32, (3,3), padding='same', activation='relu'))\n",
        "model.add(MaxPooling2D(pool_size=(2,2)))\n",
        "model.add(Dropout(0.25))\n",
        "model.add(Flatten())\n",
        "model.add(Dense(256, activation='relu'))\n",
        "model.add(Dropout(0.25))\n",
        "model.add(Dense(10, activation='softmax'))\n",
        "\n",
        "model.compile(loss='categorical_crossentropy', optimizer = 'adam', metrics = ['accuracy'])\n",
        "history = model.fit(x_train,\n",
        "                    y_train,\n",
        "                    batch_size = batch_size,\n",
        "                    epochs=15,\n",
        "                    validation_data = (x_test, y_test),\n",
        "                    verbose=1)\n",
        "\n",
        "plt.plot(history.history['accuracy'], label = 'Доля верных ответов на обучающем наборе')\n",
        "plt.plot(history.history['val_accuracy'], label = 'Доля верных ответов на проверочном наборе')\n",
        "plt.xlabel('Эпоха обучения')\n",
        "plt.ylabel('Доля верных ответов')\n",
        "plt.legend()\n",
        "plt.show()\n",
        "\n",
        "indexes.append('1 слой 2 нейрона')\n",
        "model_list.append(history.history['accuracy'][-1])\n",
        "model_list.append(history.history['val_accuracy'][-1])\n",
        "\n",
        "scores = model.evaluate(x_test, y_test)\n",
        "model_list.append(scores[1])"
      ],
      "execution_count": null,
      "outputs": [
        {
          "output_type": "stream",
          "text": [
            "Epoch 1/15\n",
            "469/469 [==============================] - 2s 3ms/step - loss: 0.4472 - accuracy: 0.8589 - val_loss: 0.1567 - val_accuracy: 0.9533\n",
            "Epoch 2/15\n",
            "469/469 [==============================] - 1s 3ms/step - loss: 0.2294 - accuracy: 0.9283 - val_loss: 0.1125 - val_accuracy: 0.9655\n",
            "Epoch 3/15\n",
            "469/469 [==============================] - 1s 3ms/step - loss: 0.1836 - accuracy: 0.9420 - val_loss: 0.0957 - val_accuracy: 0.9702\n",
            "Epoch 4/15\n",
            "469/469 [==============================] - 1s 3ms/step - loss: 0.1575 - accuracy: 0.9495 - val_loss: 0.0825 - val_accuracy: 0.9735\n",
            "Epoch 5/15\n",
            "469/469 [==============================] - 1s 3ms/step - loss: 0.1419 - accuracy: 0.9549 - val_loss: 0.0711 - val_accuracy: 0.9778\n",
            "Epoch 6/15\n",
            "469/469 [==============================] - 1s 3ms/step - loss: 0.1303 - accuracy: 0.9590 - val_loss: 0.0710 - val_accuracy: 0.9769\n",
            "Epoch 7/15\n",
            "469/469 [==============================] - 1s 3ms/step - loss: 0.1194 - accuracy: 0.9614 - val_loss: 0.0693 - val_accuracy: 0.9777\n",
            "Epoch 8/15\n",
            "469/469 [==============================] - 1s 3ms/step - loss: 0.1120 - accuracy: 0.9635 - val_loss: 0.0602 - val_accuracy: 0.9801\n",
            "Epoch 9/15\n",
            "469/469 [==============================] - 1s 3ms/step - loss: 0.1079 - accuracy: 0.9655 - val_loss: 0.0573 - val_accuracy: 0.9806\n",
            "Epoch 10/15\n",
            "469/469 [==============================] - 1s 3ms/step - loss: 0.1022 - accuracy: 0.9671 - val_loss: 0.0618 - val_accuracy: 0.9787\n",
            "Epoch 11/15\n",
            "469/469 [==============================] - 1s 3ms/step - loss: 0.0980 - accuracy: 0.9678 - val_loss: 0.0564 - val_accuracy: 0.9809\n",
            "Epoch 12/15\n",
            "469/469 [==============================] - 1s 3ms/step - loss: 0.0936 - accuracy: 0.9693 - val_loss: 0.0574 - val_accuracy: 0.9801\n",
            "Epoch 13/15\n",
            "469/469 [==============================] - 1s 3ms/step - loss: 0.0904 - accuracy: 0.9703 - val_loss: 0.0569 - val_accuracy: 0.9809\n",
            "Epoch 14/15\n",
            "469/469 [==============================] - 1s 3ms/step - loss: 0.0858 - accuracy: 0.9717 - val_loss: 0.0564 - val_accuracy: 0.9803\n",
            "Epoch 15/15\n",
            "469/469 [==============================] - 1s 3ms/step - loss: 0.0867 - accuracy: 0.9722 - val_loss: 0.0517 - val_accuracy: 0.9824\n"
          ],
          "name": "stdout"
        },
        {
          "output_type": "display_data",
          "data": {
            "image/png": "[encoded data removed]",
            "text/plain": [
              "<Figure size 432x288 with 1 Axes>"
            ]
          },
          "metadata": {
            "tags": [],
            "needs_background": "light"
          }
        },
        {
          "output_type": "stream",
          "text": [
            "313/313 [==============================] - 1s 2ms/step - loss: 0.0517 - accuracy: 0.9824\n"
          ],
          "name": "stdout"
        }
      ]
    },
    {
      "cell_type": "code",
      "metadata": {
        "id": "lieKA35y-RA7",
        "colab": {
          "base_uri": "https://localhost:8080/",
          "height": 806
        },
        "outputId": "e7455f02-f2cc-4611-c841-acd986a0711a"
      },
      "source": [
        "batch_size = 128\n",
        "\n",
        "model = Sequential()\n",
        "model.add(BatchNormalization(input_shape = (28,28,1)))\n",
        "model.add(Conv2D(4, (3,3), padding='same', activation='relu'))\n",
        "# model.add(Conv2D(32, (3,3), padding='same', activation='relu'))\n",
        "model.add(MaxPooling2D(pool_size=(2,2)))\n",
        "model.add(Dropout(0.25))\n",
        "model.add(Flatten())\n",
        "model.add(Dense(256, activation='relu'))\n",
        "model.add(Dropout(0.25))\n",
        "model.add(Dense(10, activation='softmax'))\n",
        "\n",
        "model.compile(loss='categorical_crossentropy', optimizer = 'adam', metrics = ['accuracy'])\n",
        "history = model.fit(x_train,\n",
        "                    y_train,\n",
        "                    batch_size = batch_size,\n",
        "                    epochs=15,\n",
        "                    validation_data = (x_test, y_test),\n",
        "                    verbose=1)\n",
        "\n",
        "plt.plot(history.history['accuracy'], label = 'Доля верных ответов на обучающем наборе')\n",
        "plt.plot(history.history['val_accuracy'], label = 'Доля верных ответов на проверочном наборе')\n",
        "plt.xlabel('Эпоха обучения')\n",
        "plt.ylabel('Доля верных ответов')\n",
        "plt.legend()\n",
        "plt.show()\n",
        "\n",
        "indexes.append('1 слой 4 нейрона')\n",
        "model_list.append(history.history['accuracy'][-1])\n",
        "model_list.append(history.history['val_accuracy'][-1])\n",
        "\n",
        "scores = model.evaluate(x_test, y_test)\n",
        "model_list.append(scores[1])"
      ],
      "execution_count": null,
      "outputs": [
        {
          "output_type": "stream",
          "text": [
            "Epoch 1/15\n",
            "469/469 [==============================] - 2s 3ms/step - loss: 0.3319 - accuracy: 0.8953 - val_loss: 0.1049 - val_accuracy: 0.9675\n",
            "Epoch 2/15\n",
            "469/469 [==============================] - 1s 3ms/step - loss: 0.1458 - accuracy: 0.9538 - val_loss: 0.0754 - val_accuracy: 0.9760\n",
            "Epoch 3/15\n",
            "469/469 [==============================] - 1s 3ms/step - loss: 0.1131 - accuracy: 0.9642 - val_loss: 0.0602 - val_accuracy: 0.9789\n",
            "Epoch 4/15\n",
            "469/469 [==============================] - 1s 3ms/step - loss: 0.0928 - accuracy: 0.9706 - val_loss: 0.0538 - val_accuracy: 0.9819\n",
            "Epoch 5/15\n",
            "469/469 [==============================] - 1s 3ms/step - loss: 0.0821 - accuracy: 0.9740 - val_loss: 0.0524 - val_accuracy: 0.9829\n",
            "Epoch 6/15\n",
            "469/469 [==============================] - 1s 3ms/step - loss: 0.0746 - accuracy: 0.9757 - val_loss: 0.0536 - val_accuracy: 0.9840\n",
            "Epoch 7/15\n",
            "469/469 [==============================] - 1s 3ms/step - loss: 0.0644 - accuracy: 0.9792 - val_loss: 0.0482 - val_accuracy: 0.9848\n",
            "Epoch 8/15\n",
            "469/469 [==============================] - 1s 3ms/step - loss: 0.0614 - accuracy: 0.9800 - val_loss: 0.0450 - val_accuracy: 0.9854\n",
            "Epoch 9/15\n",
            "469/469 [==============================] - 1s 3ms/step - loss: 0.0560 - accuracy: 0.9819 - val_loss: 0.0417 - val_accuracy: 0.9862\n",
            "Epoch 10/15\n",
            "469/469 [==============================] - 1s 3ms/step - loss: 0.0526 - accuracy: 0.9821 - val_loss: 0.0441 - val_accuracy: 0.9859\n",
            "Epoch 11/15\n",
            "469/469 [==============================] - 1s 3ms/step - loss: 0.0488 - accuracy: 0.9836 - val_loss: 0.0424 - val_accuracy: 0.9871\n",
            "Epoch 12/15\n",
            "469/469 [==============================] - 1s 3ms/step - loss: 0.0471 - accuracy: 0.9844 - val_loss: 0.0433 - val_accuracy: 0.9854\n",
            "Epoch 13/15\n",
            "469/469 [==============================] - 1s 3ms/step - loss: 0.0444 - accuracy: 0.9850 - val_loss: 0.0384 - val_accuracy: 0.9865\n",
            "Epoch 14/15\n",
            "469/469 [==============================] - 1s 3ms/step - loss: 0.0411 - accuracy: 0.9862 - val_loss: 0.0411 - val_accuracy: 0.9861\n",
            "Epoch 15/15\n",
            "469/469 [==============================] - 1s 3ms/step - loss: 0.0382 - accuracy: 0.9870 - val_loss: 0.0381 - val_accuracy: 0.9880\n"
          ],
          "name": "stdout"
        },
        {
          "output_type": "display_data",
          "data": {
            "image/png": "[encoded data removed]",
            "text/plain": [
              "<Figure size 432x288 with 1 Axes>"
            ]
          },
          "metadata": {
            "tags": [],
            "needs_background": "light"
          }
        },
        {
          "output_type": "stream",
          "text": [
            "313/313 [==============================] - 1s 2ms/step - loss: 0.0381 - accuracy: 0.9880\n"
          ],
          "name": "stdout"
        }
      ]
    },
    {
      "cell_type": "code",
      "metadata": {
        "id": "RoUUYbYn-lzi",
        "colab": {
          "base_uri": "https://localhost:8080/",
          "height": 806
        },
        "outputId": "0e629834-52e9-4878-9e57-09c8f3a1871d"
      },
      "source": [
        "batch_size = 128\n",
        "\n",
        "model = Sequential()\n",
        "model.add(BatchNormalization(input_shape = (28,28,1)))\n",
        "model.add(Conv2D(16, (3,3), padding='same', activation='relu'))\n",
        "# model.add(Conv2D(32, (3,3), padding='same', activation='relu'))\n",
        "model.add(MaxPooling2D(pool_size=(2,2)))\n",
        "model.add(Dropout(0.25))\n",
        "model.add(Flatten())\n",
        "model.add(Dense(256, activation='relu'))\n",
        "model.add(Dropout(0.25))\n",
        "model.add(Dense(10, activation='softmax'))\n",
        "\n",
        "model.compile(loss='categorical_crossentropy', optimizer = 'adam', metrics = ['accuracy'])\n",
        "history = model.fit(x_train,\n",
        "                    y_train,\n",
        "                    batch_size = batch_size,\n",
        "                    epochs=15,\n",
        "                    validation_data = (x_test, y_test),\n",
        "                    verbose=1)\n",
        "\n",
        "plt.plot(history.history['accuracy'], label = 'Доля верных ответов на обучающем наборе')\n",
        "plt.plot(history.history['val_accuracy'], label = 'Доля верных ответов на проверочном наборе')\n",
        "plt.xlabel('Эпоха обучения')\n",
        "plt.ylabel('Доля верных ответов')\n",
        "plt.legend()\n",
        "plt.show()\n",
        "\n",
        "indexes.append('1 слой 16 нейрона')\n",
        "model_list.append(history.history['accuracy'][-1])\n",
        "model_list.append(history.history['val_accuracy'][-1])\n",
        "\n",
        "scores = model.evaluate(x_test, y_test)\n",
        "model_list.append(scores[1])"
      ],
      "execution_count": null,
      "outputs": [
        {
          "output_type": "stream",
          "text": [
            "Epoch 1/15\n",
            "469/469 [==============================] - 2s 4ms/step - loss: 0.2365 - accuracy: 0.9279 - val_loss: 0.0781 - val_accuracy: 0.9750\n",
            "Epoch 2/15\n",
            "469/469 [==============================] - 2s 4ms/step - loss: 0.0886 - accuracy: 0.9724 - val_loss: 0.0544 - val_accuracy: 0.9824\n",
            "Epoch 3/15\n",
            "469/469 [==============================] - 2s 4ms/step - loss: 0.0644 - accuracy: 0.9791 - val_loss: 0.0482 - val_accuracy: 0.9835\n",
            "Epoch 4/15\n",
            "469/469 [==============================] - 2s 4ms/step - loss: 0.0505 - accuracy: 0.9833 - val_loss: 0.0383 - val_accuracy: 0.9868\n",
            "Epoch 5/15\n",
            "469/469 [==============================] - 2s 4ms/step - loss: 0.0425 - accuracy: 0.9865 - val_loss: 0.0406 - val_accuracy: 0.9865\n",
            "Epoch 6/15\n",
            "469/469 [==============================] - 2s 4ms/step - loss: 0.0353 - accuracy: 0.9882 - val_loss: 0.0384 - val_accuracy: 0.9872\n",
            "Epoch 7/15\n",
            "469/469 [==============================] - 2s 4ms/step - loss: 0.0335 - accuracy: 0.9888 - val_loss: 0.0421 - val_accuracy: 0.9872\n",
            "Epoch 8/15\n",
            "469/469 [==============================] - 2s 4ms/step - loss: 0.0273 - accuracy: 0.9913 - val_loss: 0.0359 - val_accuracy: 0.9887\n",
            "Epoch 9/15\n",
            "469/469 [==============================] - 2s 4ms/step - loss: 0.0251 - accuracy: 0.9913 - val_loss: 0.0362 - val_accuracy: 0.9880\n",
            "Epoch 10/15\n",
            "469/469 [==============================] - 2s 4ms/step - loss: 0.0234 - accuracy: 0.9920 - val_loss: 0.0357 - val_accuracy: 0.9898\n",
            "Epoch 11/15\n",
            "469/469 [==============================] - 2s 4ms/step - loss: 0.0206 - accuracy: 0.9929 - val_loss: 0.0346 - val_accuracy: 0.9890\n",
            "Epoch 12/15\n",
            "469/469 [==============================] - 2s 4ms/step - loss: 0.0180 - accuracy: 0.9939 - val_loss: 0.0390 - val_accuracy: 0.9894\n",
            "Epoch 13/15\n",
            "469/469 [==============================] - 2s 4ms/step - loss: 0.0192 - accuracy: 0.9935 - val_loss: 0.0402 - val_accuracy: 0.9886\n",
            "Epoch 14/15\n",
            "469/469 [==============================] - 2s 4ms/step - loss: 0.0165 - accuracy: 0.9942 - val_loss: 0.0383 - val_accuracy: 0.9890\n",
            "Epoch 15/15\n",
            "469/469 [==============================] - 2s 4ms/step - loss: 0.0149 - accuracy: 0.9946 - val_loss: 0.0415 - val_accuracy: 0.9892\n"
          ],
          "name": "stdout"
        },
        {
          "output_type": "display_data",
          "data": {
            "image/png": "[encoded data removed]",
            "text/plain": [
              "<Figure size 432x288 with 1 Axes>"
            ]
          },
          "metadata": {
            "tags": [],
            "needs_background": "light"
          }
        },
        {
          "output_type": "stream",
          "text": [
            "313/313 [==============================] - 1s 2ms/step - loss: 0.0415 - accuracy: 0.9892\n"
          ],
          "name": "stdout"
        }
      ]
    },
    {
      "cell_type": "markdown",
      "metadata": {
        "id": "fFcGfae6Eryh"
      },
      "source": [
        "### 2."
      ]
    },
    {
      "cell_type": "code",
      "metadata": {
        "id": "mlGMBIlN-pE-",
        "colab": {
          "base_uri": "https://localhost:8080/",
          "height": 806
        },
        "outputId": "59e119fa-537b-4e7f-a492-ce47f07ff8f9"
      },
      "source": [
        "batch_size = 128\n",
        "\n",
        "model = Sequential()\n",
        "model.add(BatchNormalization(input_shape = (28,28,1)))\n",
        "model.add(Conv2D(32, (3,3), padding='same', activation='linear'))\n",
        "model.add(Conv2D(32, (3,3), padding='same', activation='linear'))\n",
        "model.add(MaxPooling2D(pool_size=(2,2)))\n",
        "model.add(Dropout(0.25))\n",
        "model.add(Flatten())\n",
        "model.add(Dense(256, activation='linear'))\n",
        "model.add(Dropout(0.25))\n",
        "model.add(Dense(10, activation='softmax'))\n",
        "\n",
        "model.compile(loss='categorical_crossentropy', optimizer = 'adam', metrics = ['accuracy'])\n",
        "history = model.fit(x_train,\n",
        "                    y_train,\n",
        "                    batch_size = batch_size,\n",
        "                    epochs=15,\n",
        "                    validation_data = (x_test, y_test),\n",
        "                    verbose=1)\n",
        "\n",
        "plt.plot(history.history['accuracy'], label = 'Доля верных ответов на обучающем наборе')\n",
        "plt.plot(history.history['val_accuracy'], label = 'Доля верных ответов на проверочном наборе')\n",
        "plt.xlabel('Эпоха обучения')\n",
        "plt.ylabel('Доля верных ответов')\n",
        "plt.legend()\n",
        "plt.show()\n",
        "\n",
        "indexes.append('relu - > linear')\n",
        "model_list.append(history.history['accuracy'][-1])\n",
        "model_list.append(history.history['val_accuracy'][-1])\n",
        "\n",
        "scores = model.evaluate(x_test, y_test)\n",
        "model_list.append(scores[1])"
      ],
      "execution_count": null,
      "outputs": [
        {
          "output_type": "stream",
          "text": [
            "Epoch 1/15\n",
            "469/469 [==============================] - 3s 6ms/step - loss: 0.2229 - accuracy: 0.9341 - val_loss: 0.1015 - val_accuracy: 0.9694\n",
            "Epoch 2/15\n",
            "469/469 [==============================] - 3s 5ms/step - loss: 0.1035 - accuracy: 0.9682 - val_loss: 0.0780 - val_accuracy: 0.9768\n",
            "Epoch 3/15\n",
            "469/469 [==============================] - 3s 5ms/step - loss: 0.0850 - accuracy: 0.9733 - val_loss: 0.0723 - val_accuracy: 0.9777\n",
            "Epoch 4/15\n",
            "469/469 [==============================] - 3s 5ms/step - loss: 0.0787 - accuracy: 0.9749 - val_loss: 0.0741 - val_accuracy: 0.9771\n",
            "Epoch 5/15\n",
            "469/469 [==============================] - 3s 5ms/step - loss: 0.0708 - accuracy: 0.9773 - val_loss: 0.0749 - val_accuracy: 0.9777\n",
            "Epoch 6/15\n",
            "469/469 [==============================] - 3s 5ms/step - loss: 0.0669 - accuracy: 0.9789 - val_loss: 0.0828 - val_accuracy: 0.9764\n",
            "Epoch 7/15\n",
            "469/469 [==============================] - 3s 5ms/step - loss: 0.0638 - accuracy: 0.9792 - val_loss: 0.0720 - val_accuracy: 0.9779\n",
            "Epoch 8/15\n",
            "469/469 [==============================] - 3s 5ms/step - loss: 0.0612 - accuracy: 0.9804 - val_loss: 0.0767 - val_accuracy: 0.9775\n",
            "Epoch 9/15\n",
            "469/469 [==============================] - 3s 5ms/step - loss: 0.0573 - accuracy: 0.9809 - val_loss: 0.0719 - val_accuracy: 0.9789\n",
            "Epoch 10/15\n",
            "469/469 [==============================] - 3s 5ms/step - loss: 0.0575 - accuracy: 0.9813 - val_loss: 0.0808 - val_accuracy: 0.9767\n",
            "Epoch 11/15\n",
            "469/469 [==============================] - 3s 5ms/step - loss: 0.0528 - accuracy: 0.9828 - val_loss: 0.0861 - val_accuracy: 0.9775\n",
            "Epoch 12/15\n",
            "469/469 [==============================] - 3s 5ms/step - loss: 0.0534 - accuracy: 0.9825 - val_loss: 0.0841 - val_accuracy: 0.9769\n",
            "Epoch 13/15\n",
            "469/469 [==============================] - 3s 5ms/step - loss: 0.0504 - accuracy: 0.9837 - val_loss: 0.0813 - val_accuracy: 0.9767\n",
            "Epoch 14/15\n",
            "469/469 [==============================] - 3s 5ms/step - loss: 0.0487 - accuracy: 0.9836 - val_loss: 0.0721 - val_accuracy: 0.9802\n",
            "Epoch 15/15\n",
            "469/469 [==============================] - 3s 5ms/step - loss: 0.0482 - accuracy: 0.9843 - val_loss: 0.0836 - val_accuracy: 0.9774\n"
          ],
          "name": "stdout"
        },
        {
          "output_type": "display_data",
          "data": {
            "image/png": "[encoded data removed]",
            "text/plain": [
              "<Figure size 432x288 with 1 Axes>"
            ]
          },
          "metadata": {
            "tags": [],
            "needs_background": "light"
          }
        },
        {
          "output_type": "stream",
          "text": [
            "313/313 [==============================] - 1s 2ms/step - loss: 0.0836 - accuracy: 0.9774\n"
          ],
          "name": "stdout"
        }
      ]
    },
    {
      "cell_type": "markdown",
      "metadata": {
        "id": "-wkmetsfEwPk"
      },
      "source": [
        "### 3."
      ]
    },
    {
      "cell_type": "code",
      "metadata": {
        "id": "9nMF2BpK-7Qp",
        "colab": {
          "base_uri": "https://localhost:8080/",
          "height": 806
        },
        "outputId": "a000405e-96b6-4a1b-ed3b-a0c0a74e9241"
      },
      "source": [
        "batch_size = 10\n",
        "\n",
        "model = Sequential()\n",
        "model.add(BatchNormalization(input_shape = (28,28,1)))\n",
        "model.add(Conv2D(32, (3,3), padding='same', activation='relu'))\n",
        "model.add(Conv2D(32, (3,3), padding='same', activation='relu'))\n",
        "model.add(MaxPooling2D(pool_size=(2,2)))\n",
        "model.add(Dropout(0.25))\n",
        "model.add(Flatten())\n",
        "model.add(Dense(256, activation='relu'))\n",
        "model.add(Dropout(0.25))\n",
        "model.add(Dense(10, activation='softmax'))\n",
        "\n",
        "model.compile(loss='categorical_crossentropy', optimizer = 'adam', metrics = ['accuracy'])\n",
        "history = model.fit(x_train,\n",
        "                    y_train,\n",
        "                    batch_size = batch_size,\n",
        "                    epochs=15,\n",
        "                    validation_data = (x_test, y_test),\n",
        "                    verbose=1)\n",
        "\n",
        "plt.plot(history.history['accuracy'], label = 'Доля верных ответов на обучающем наборе')\n",
        "plt.plot(history.history['val_accuracy'], label = 'Доля верных ответов на проверочном наборе')\n",
        "plt.xlabel('Эпоха обучения')\n",
        "plt.ylabel('Доля верных ответов')\n",
        "plt.legend()\n",
        "plt.show()\n",
        "\n",
        "indexes.append('batch_size = 10')\n",
        "model_list.append(history.history['accuracy'][-1])\n",
        "model_list.append(history.history['val_accuracy'][-1])\n",
        "\n",
        "scores = model.evaluate(x_test, y_test)\n",
        "model_list.append(scores[1])"
      ],
      "execution_count": null,
      "outputs": [
        {
          "output_type": "stream",
          "text": [
            "Epoch 1/15\n",
            "6000/6000 [==============================] - 18s 3ms/step - loss: 0.1191 - accuracy: 0.9640 - val_loss: 0.0377 - val_accuracy: 0.9873\n",
            "Epoch 2/15\n",
            "6000/6000 [==============================] - 17s 3ms/step - loss: 0.0514 - accuracy: 0.9836 - val_loss: 0.0315 - val_accuracy: 0.9900\n",
            "Epoch 3/15\n",
            "6000/6000 [==============================] - 19s 3ms/step - loss: 0.0373 - accuracy: 0.9886 - val_loss: 0.0298 - val_accuracy: 0.9910\n",
            "Epoch 4/15\n",
            "6000/6000 [==============================] - 17s 3ms/step - loss: 0.0277 - accuracy: 0.9916 - val_loss: 0.0301 - val_accuracy: 0.9907\n",
            "Epoch 5/15\n",
            "6000/6000 [==============================] - 17s 3ms/step - loss: 0.0225 - accuracy: 0.9930 - val_loss: 0.0323 - val_accuracy: 0.9901\n",
            "Epoch 6/15\n",
            "6000/6000 [==============================] - 17s 3ms/step - loss: 0.0184 - accuracy: 0.9943 - val_loss: 0.0448 - val_accuracy: 0.9886\n",
            "Epoch 7/15\n",
            "6000/6000 [==============================] - 17s 3ms/step - loss: 0.0169 - accuracy: 0.9947 - val_loss: 0.0307 - val_accuracy: 0.9915\n",
            "Epoch 8/15\n",
            "6000/6000 [==============================] - 17s 3ms/step - loss: 0.0141 - accuracy: 0.9955 - val_loss: 0.0378 - val_accuracy: 0.9897\n",
            "Epoch 9/15\n",
            "6000/6000 [==============================] - 17s 3ms/step - loss: 0.0122 - accuracy: 0.9961 - val_loss: 0.0422 - val_accuracy: 0.9897\n",
            "Epoch 10/15\n",
            "6000/6000 [==============================] - 17s 3ms/step - loss: 0.0122 - accuracy: 0.9964 - val_loss: 0.0450 - val_accuracy: 0.9912\n",
            "Epoch 11/15\n",
            "6000/6000 [==============================] - 17s 3ms/step - loss: 0.0108 - accuracy: 0.9966 - val_loss: 0.0420 - val_accuracy: 0.9901\n",
            "Epoch 12/15\n",
            "6000/6000 [==============================] - 17s 3ms/step - loss: 0.0100 - accuracy: 0.9966 - val_loss: 0.0463 - val_accuracy: 0.9907\n",
            "Epoch 13/15\n",
            "6000/6000 [==============================] - 17s 3ms/step - loss: 0.0101 - accuracy: 0.9968 - val_loss: 0.0365 - val_accuracy: 0.9909\n",
            "Epoch 14/15\n",
            "6000/6000 [==============================] - 17s 3ms/step - loss: 0.0094 - accuracy: 0.9969 - val_loss: 0.0406 - val_accuracy: 0.9910\n",
            "Epoch 15/15\n",
            "6000/6000 [==============================] - 17s 3ms/step - loss: 0.0084 - accuracy: 0.9976 - val_loss: 0.0373 - val_accuracy: 0.9910\n"
          ],
          "name": "stdout"
        },
        {
          "output_type": "display_data",
          "data": {
            "image/png": "[encoded data removed]",
            "text/plain": [
              "<Figure size 432x288 with 1 Axes>"
            ]
          },
          "metadata": {
            "tags": [],
            "needs_background": "light"
          }
        },
        {
          "output_type": "stream",
          "text": [
            "313/313 [==============================] - 1s 3ms/step - loss: 0.0373 - accuracy: 0.9910\n"
          ],
          "name": "stdout"
        }
      ]
    },
    {
      "cell_type": "code",
      "metadata": {
        "id": "F0qte4D8_PEO",
        "colab": {
          "base_uri": "https://localhost:8080/",
          "height": 806
        },
        "outputId": "c16de02b-8cc3-419b-ac5f-21ff7eec1c79"
      },
      "source": [
        "batch_size = 100\n",
        "\n",
        "model = Sequential()\n",
        "model.add(BatchNormalization(input_shape = (28,28,1)))\n",
        "model.add(Conv2D(32, (3,3), padding='same', activation='relu'))\n",
        "model.add(Conv2D(32, (3,3), padding='same', activation='relu'))\n",
        "model.add(MaxPooling2D(pool_size=(2,2)))\n",
        "model.add(Dropout(0.25))\n",
        "model.add(Flatten())\n",
        "model.add(Dense(256, activation='relu'))\n",
        "model.add(Dropout(0.25))\n",
        "model.add(Dense(10, activation='softmax'))\n",
        "\n",
        "model.compile(loss='categorical_crossentropy', optimizer = 'adam', metrics = ['accuracy'])\n",
        "history = model.fit(x_train,\n",
        "                    y_train,\n",
        "                    batch_size = batch_size,\n",
        "                    epochs=15,\n",
        "                    validation_data = (x_test, y_test),\n",
        "                    verbose=1)\n",
        "\n",
        "plt.plot(history.history['accuracy'], label = 'Доля верных ответов на обучающем наборе')\n",
        "plt.plot(history.history['val_accuracy'], label = 'Доля верных ответов на проверочном наборе')\n",
        "plt.xlabel('Эпоха обучения')\n",
        "plt.ylabel('Доля верных ответов')\n",
        "plt.legend()\n",
        "plt.show()\n",
        "\n",
        "indexes.append('batch_size = 100')\n",
        "model_list.append(history.history['accuracy'][-1])\n",
        "model_list.append(history.history['val_accuracy'][-1])\n",
        "\n",
        "scores = model.evaluate(x_test, y_test)\n",
        "model_list.append(scores[1])"
      ],
      "execution_count": null,
      "outputs": [
        {
          "output_type": "stream",
          "text": [
            "Epoch 1/15\n",
            "600/600 [==============================] - 3s 5ms/step - loss: 0.1455 - accuracy: 0.9550 - val_loss: 0.0416 - val_accuracy: 0.9863\n",
            "Epoch 2/15\n",
            "600/600 [==============================] - 3s 5ms/step - loss: 0.0487 - accuracy: 0.9843 - val_loss: 0.0330 - val_accuracy: 0.9886\n",
            "Epoch 3/15\n",
            "600/600 [==============================] - 3s 5ms/step - loss: 0.0332 - accuracy: 0.9896 - val_loss: 0.0298 - val_accuracy: 0.9907\n",
            "Epoch 4/15\n",
            "600/600 [==============================] - 3s 5ms/step - loss: 0.0246 - accuracy: 0.9921 - val_loss: 0.0312 - val_accuracy: 0.9904\n",
            "Epoch 5/15\n",
            "600/600 [==============================] - 3s 5ms/step - loss: 0.0213 - accuracy: 0.9926 - val_loss: 0.0309 - val_accuracy: 0.9905\n",
            "Epoch 6/15\n",
            "600/600 [==============================] - 3s 5ms/step - loss: 0.0176 - accuracy: 0.9942 - val_loss: 0.0302 - val_accuracy: 0.9919\n",
            "Epoch 7/15\n",
            "600/600 [==============================] - 3s 5ms/step - loss: 0.0146 - accuracy: 0.9951 - val_loss: 0.0301 - val_accuracy: 0.9915\n",
            "Epoch 8/15\n",
            "600/600 [==============================] - 3s 5ms/step - loss: 0.0124 - accuracy: 0.9958 - val_loss: 0.0307 - val_accuracy: 0.9918\n",
            "Epoch 9/15\n",
            "600/600 [==============================] - 3s 5ms/step - loss: 0.0118 - accuracy: 0.9962 - val_loss: 0.0285 - val_accuracy: 0.9923\n",
            "Epoch 10/15\n",
            "600/600 [==============================] - 3s 5ms/step - loss: 0.0128 - accuracy: 0.9956 - val_loss: 0.0294 - val_accuracy: 0.9924\n",
            "Epoch 11/15\n",
            "600/600 [==============================] - 3s 5ms/step - loss: 0.0086 - accuracy: 0.9971 - val_loss: 0.0282 - val_accuracy: 0.9929\n",
            "Epoch 12/15\n",
            "600/600 [==============================] - 3s 5ms/step - loss: 0.0074 - accuracy: 0.9976 - val_loss: 0.0317 - val_accuracy: 0.9918\n",
            "Epoch 13/15\n",
            "600/600 [==============================] - 3s 5ms/step - loss: 0.0088 - accuracy: 0.9968 - val_loss: 0.0375 - val_accuracy: 0.9918\n",
            "Epoch 14/15\n",
            "600/600 [==============================] - 3s 5ms/step - loss: 0.0076 - accuracy: 0.9973 - val_loss: 0.0328 - val_accuracy: 0.9917\n",
            "Epoch 15/15\n",
            "600/600 [==============================] - 3s 5ms/step - loss: 0.0066 - accuracy: 0.9978 - val_loss: 0.0329 - val_accuracy: 0.9915\n"
          ],
          "name": "stdout"
        },
        {
          "output_type": "display_data",
          "data": {
            "image/png": "[encoded data removed]",
            "text/plain": [
              "<Figure size 432x288 with 1 Axes>"
            ]
          },
          "metadata": {
            "tags": [],
            "needs_background": "light"
          }
        },
        {
          "output_type": "stream",
          "text": [
            "313/313 [==============================] - 1s 2ms/step - loss: 0.0329 - accuracy: 0.9915\n"
          ],
          "name": "stdout"
        }
      ]
    },
    {
      "cell_type": "code",
      "metadata": {
        "id": "by1xHVnJ_UYb",
        "colab": {
          "base_uri": "https://localhost:8080/",
          "height": 847
        },
        "outputId": "509e6b39-f63a-4cf0-cba7-3fd737be922c"
      },
      "source": [
        "# на всю выборку колаба не хватило. Поменял на 15000\n",
        "batch_size = 15000\n",
        "\n",
        "model = Sequential()\n",
        "model.add(BatchNormalization(input_shape = (28,28,1)))\n",
        "model.add(Conv2D(32, (3,3), padding='same', activation='relu'))\n",
        "model.add(Conv2D(32, (3,3), padding='same', activation='relu'))\n",
        "model.add(MaxPooling2D(pool_size=(2,2)))\n",
        "model.add(Dropout(0.25))\n",
        "model.add(Flatten())\n",
        "model.add(Dense(256, activation='relu'))\n",
        "model.add(Dropout(0.25))\n",
        "model.add(Dense(10, activation='softmax'))\n",
        "\n",
        "model.compile(loss='categorical_crossentropy', optimizer = 'adam', metrics = ['accuracy'])\n",
        "history = model.fit(x_train,\n",
        "                    y_train,\n",
        "                    batch_size = batch_size,\n",
        "                    epochs=15,\n",
        "                    validation_data = (x_test, y_test),\n",
        "                    verbose=1)\n",
        "\n",
        "plt.plot(history.history['accuracy'], label = 'Доля верных ответов на обучающем наборе')\n",
        "plt.plot(history.history['val_accuracy'], label = 'Доля верных ответов на проверочном наборе')\n",
        "plt.xlabel('Эпоха обучения')\n",
        "plt.ylabel('Доля верных ответов')\n",
        "plt.legend()\n",
        "plt.show()\n",
        "\n",
        "indexes.append('batch_size = 15000')\n",
        "model_list.append(history.history['accuracy'][-1])\n",
        "model_list.append(history.history['val_accuracy'][-1])\n",
        "\n",
        "scores = model.evaluate(x_test, y_test)\n",
        "model_list.append(scores[1])"
      ],
      "execution_count": null,
      "outputs": [
        {
          "output_type": "stream",
          "text": [
            "Epoch 1/15\n",
            "2/4 [==============>...............] - ETA: 0s - loss: 2.1317 - accuracy: 0.3175WARNING:tensorflow:Callbacks method `on_train_batch_end` is slow compared to the batch time (batch time: 0.0149s vs `on_train_batch_end` time: 0.2583s). Check your callbacks.\n",
            "4/4 [==============================] - 1s 311ms/step - loss: 1.7259 - accuracy: 0.5051 - val_loss: 1.0739 - val_accuracy: 0.7853\n",
            "Epoch 2/15\n",
            "4/4 [==============================] - 1s 289ms/step - loss: 0.6782 - accuracy: 0.7900 - val_loss: 1.0791 - val_accuracy: 0.8565\n",
            "Epoch 3/15\n",
            "4/4 [==============================] - 1s 285ms/step - loss: 0.4662 - accuracy: 0.8547 - val_loss: 0.9549 - val_accuracy: 0.8763\n",
            "Epoch 4/15\n",
            "4/4 [==============================] - 1s 284ms/step - loss: 0.3687 - accuracy: 0.8915 - val_loss: 0.7068 - val_accuracy: 0.8932\n",
            "Epoch 5/15\n",
            "4/4 [==============================] - 1s 287ms/step - loss: 0.2896 - accuracy: 0.9151 - val_loss: 0.4905 - val_accuracy: 0.9070\n",
            "Epoch 6/15\n",
            "4/4 [==============================] - 1s 286ms/step - loss: 0.2466 - accuracy: 0.9274 - val_loss: 0.3547 - val_accuracy: 0.9252\n",
            "Epoch 7/15\n",
            "4/4 [==============================] - 1s 287ms/step - loss: 0.2089 - accuracy: 0.9382 - val_loss: 0.2862 - val_accuracy: 0.9365\n",
            "Epoch 8/15\n",
            "4/4 [==============================] - 1s 285ms/step - loss: 0.1779 - accuracy: 0.9471 - val_loss: 0.2402 - val_accuracy: 0.9444\n",
            "Epoch 9/15\n",
            "4/4 [==============================] - 1s 287ms/step - loss: 0.1570 - accuracy: 0.9526 - val_loss: 0.1889 - val_accuracy: 0.9536\n",
            "Epoch 10/15\n",
            "4/4 [==============================] - 1s 285ms/step - loss: 0.1363 - accuracy: 0.9592 - val_loss: 0.1561 - val_accuracy: 0.9589\n",
            "Epoch 11/15\n",
            "4/4 [==============================] - 1s 286ms/step - loss: 0.1220 - accuracy: 0.9633 - val_loss: 0.1247 - val_accuracy: 0.9659\n",
            "Epoch 12/15\n",
            "4/4 [==============================] - 1s 286ms/step - loss: 0.1088 - accuracy: 0.9674 - val_loss: 0.1149 - val_accuracy: 0.9677\n",
            "Epoch 13/15\n",
            "4/4 [==============================] - 1s 285ms/step - loss: 0.0997 - accuracy: 0.9705 - val_loss: 0.0928 - val_accuracy: 0.9728\n",
            "Epoch 14/15\n",
            "4/4 [==============================] - 1s 285ms/step - loss: 0.0910 - accuracy: 0.9732 - val_loss: 0.0911 - val_accuracy: 0.9730\n",
            "Epoch 15/15\n",
            "4/4 [==============================] - 1s 286ms/step - loss: 0.0840 - accuracy: 0.9746 - val_loss: 0.0753 - val_accuracy: 0.9768\n"
          ],
          "name": "stdout"
        },
        {
          "output_type": "display_data",
          "data": {
            "image/png": "[encoded data removed]",
            "text/plain": [
              "<Figure size 432x288 with 1 Axes>"
            ]
          },
          "metadata": {
            "tags": [],
            "needs_background": "light"
          }
        },
        {
          "output_type": "stream",
          "text": [
            "313/313 [==============================] - 1s 2ms/step - loss: 0.0753 - accuracy: 0.9768\n"
          ],
          "name": "stdout"
        }
      ]
    },
    {
      "cell_type": "code",
      "metadata": {
        "id": "5uBtuCpO_bA1",
        "colab": {
          "base_uri": "https://localhost:8080/",
          "height": 266
        },
        "outputId": "79a4d623-d93c-4f8c-8aec-4107d7c61325"
      },
      "source": [
        "model_arr = np.array(model_list)\n",
        "model_arr = model_arr.reshape(7,3)\n",
        "df = pd.DataFrame(model_arr, columns=columns, index=indexes)\n",
        "df"
      ],
      "execution_count": null,
      "outputs": [
        {
          "output_type": "execute_result",
          "data": {
            "text/html": [
              "<div>\n",
              "<style scoped>\n",
              "    .dataframe tbody tr th:only-of-type {\n",
              "        vertical-align: middle;\n",
              "    }\n",
              "\n",
              "    .dataframe tbody tr th {\n",
              "        vertical-align: top;\n",
              "    }\n",
              "\n",
              "    .dataframe thead th {\n",
              "        text-align: right;\n",
              "    }\n",
              "</style>\n",
              "<table border=\"1\" class=\"dataframe\">\n",
              "  <thead>\n",
              "    <tr style=\"text-align: right;\">\n",
              "      <th></th>\n",
              "      <th>accuracy</th>\n",
              "      <th>val_accuracy</th>\n",
              "      <th>test_accuracy</th>\n",
              "    </tr>\n",
              "  </thead>\n",
              "  <tbody>\n",
              "    <tr>\n",
              "      <th>1 слой 2 нейрона</th>\n",
              "      <td>0.972200</td>\n",
              "      <td>0.9824</td>\n",
              "      <td>0.9824</td>\n",
              "    </tr>\n",
              "    <tr>\n",
              "      <th>1 слой 4 нейрона</th>\n",
              "      <td>0.987000</td>\n",
              "      <td>0.9880</td>\n",
              "      <td>0.9880</td>\n",
              "    </tr>\n",
              "    <tr>\n",
              "      <th>1 слой 16 нейрона</th>\n",
              "      <td>0.994583</td>\n",
              "      <td>0.9892</td>\n",
              "      <td>0.9892</td>\n",
              "    </tr>\n",
              "    <tr>\n",
              "      <th>relu - &gt; linear</th>\n",
              "      <td>0.984333</td>\n",
              "      <td>0.9774</td>\n",
              "      <td>0.9774</td>\n",
              "    </tr>\n",
              "    <tr>\n",
              "      <th>batch_size = 10</th>\n",
              "      <td>0.997583</td>\n",
              "      <td>0.9910</td>\n",
              "      <td>0.9910</td>\n",
              "    </tr>\n",
              "    <tr>\n",
              "      <th>batch_size = 100</th>\n",
              "      <td>0.997800</td>\n",
              "      <td>0.9915</td>\n",
              "      <td>0.9915</td>\n",
              "    </tr>\n",
              "    <tr>\n",
              "      <th>batch_size = 15000</th>\n",
              "      <td>0.974550</td>\n",
              "      <td>0.9768</td>\n",
              "      <td>0.9768</td>\n",
              "    </tr>\n",
              "  </tbody>\n",
              "</table>\n",
              "</div>"
            ],
            "text/plain": [
              "                    accuracy  val_accuracy  test_accuracy\n",
              "1 слой 2 нейрона    0.972200        0.9824         0.9824\n",
              "1 слой 4 нейрона    0.987000        0.9880         0.9880\n",
              "1 слой 16 нейрона   0.994583        0.9892         0.9892\n",
              "relu - > linear     0.984333        0.9774         0.9774\n",
              "batch_size = 10     0.997583        0.9910         0.9910\n",
              "batch_size = 100    0.997800        0.9915         0.9915\n",
              "batch_size = 15000  0.974550        0.9768         0.9768"
            ]
          },
          "metadata": {
            "tags": []
          },
          "execution_count": 14
        }
      ]
    },
    {
      "cell_type": "markdown",
      "metadata": {
        "id": "B4RKrY65Dcd5"
      },
      "source": [
        "### Выводы"
      ]
    },
    {
      "cell_type": "markdown",
      "metadata": {
        "id": "H3U1QV2zDgy6"
      },
      "source": [
        "- снижение количества нейронов приводит к ухудшению качества сети. Не хватает для запоминания всех признаков\n",
        "- смена функции с релу на линейную ухудшило качество сети - нейроны без акцтивации не успели за 15 эпох обучиться признакам\n",
        "- увеличение batch_size привело к ухудшению сети. При обучении большими объемами признаки больше усредняются и сеть обучается на более усредненных значениях на каждой эпохе"
      ]
    },
    {
      "cell_type": "markdown",
      "metadata": {
        "id": "iF1P5EDcE6ov"
      },
      "source": [
        "# ПРО"
      ]
    },
    {
      "cell_type": "markdown",
      "metadata": {
        "id": "LmacsGBxFVrb"
      },
      "source": [
        "## вар 2"
      ]
    },
    {
      "cell_type": "markdown",
      "metadata": {
        "id": "TOXhFHYKYVKy"
      },
      "source": [
        "изменения:\n",
        "- немного поменля структуру, поменял значения в дропаутах\n",
        "- нормализовал данные\n",
        "- добавил image generator\n",
        "- 400 эпох сделал с запасом, можно было меньшим обойтись ( но не стал переучивать)"
      ]
    },
    {
      "cell_type": "code",
      "metadata": {
        "id": "5d1xym2vArO9",
        "colab": {
          "base_uri": "https://localhost:8080/",
          "height": 67
        },
        "outputId": "fa479058-5adb-4a3c-ade6-2962b7099f32"
      },
      "source": [
        "(x_train10, y_train10), (x_test10, y_test10) = cifar10.load_data()\n",
        "x_train10.shape"
      ],
      "execution_count": null,
      "outputs": [
        {
          "output_type": "stream",
          "text": [
            "Downloading data from https://www.cs.toronto.edu/~kriz/cifar-10-python.tar.gz\n",
            "170500096/170498071 [==============================] - 6s 0us/step\n"
          ],
          "name": "stdout"
        },
        {
          "output_type": "execute_result",
          "data": {
            "text/plain": [
              "(50000, 32, 32, 3)"
            ]
          },
          "metadata": {
            "tags": []
          },
          "execution_count": 2
        }
      ]
    },
    {
      "cell_type": "code",
      "metadata": {
        "id": "SwBkn9SyuktH"
      },
      "source": [
        "x_train10 = x_train10/255."
      ],
      "execution_count": null,
      "outputs": []
    },
    {
      "cell_type": "code",
      "metadata": {
        "id": "nvc3tUmWu7vd"
      },
      "source": [
        "x_test10 = x_test10/255"
      ],
      "execution_count": null,
      "outputs": []
    },
    {
      "cell_type": "code",
      "metadata": {
        "id": "r5Tj4oWGA8NW"
      },
      "source": [
        "classes = ['самолет', 'автомобиль', 'птица', 'кот', 'олень', 'собака', 'лягушка', 'лошадь', 'корабль', 'грузовик']"
      ],
      "execution_count": null,
      "outputs": []
    },
    {
      "cell_type": "code",
      "metadata": {
        "id": "vmhbRRmfBXQ8"
      },
      "source": [
        "y_train10 = utils.to_categorical(y_train10,10)\n",
        "y_test10 = utils.to_categorical(y_test10,10)"
      ],
      "execution_count": null,
      "outputs": []
    },
    {
      "cell_type": "code",
      "metadata": {
        "id": "sJQhteIiFMDm"
      },
      "source": [
        "x_train10new, x_val10, y_train10new, y_val10 = train_test_split(x_train10, y_train10, test_size=0.2, shuffle=True)"
      ],
      "execution_count": null,
      "outputs": []
    },
    {
      "cell_type": "code",
      "metadata": {
        "id": "WwxeLZ4BBkxC",
        "colab": {
          "base_uri": "https://localhost:8080/",
          "height": 1000
        },
        "outputId": "b3266613-9389-477a-c21d-29d805a3b4be"
      },
      "source": [
        "batch_size = 64\n",
        "\n",
        "model = Sequential()\n",
        "model.add(Conv2D(32, (3, 3), activation='relu', padding='same', input_shape=(32, 32, 3)))\n",
        "model.add(BatchNormalization())\n",
        "model.add(Conv2D(32, (3, 3), activation='relu',  padding='same'))\n",
        "model.add(BatchNormalization())\n",
        "model.add(MaxPooling2D((2, 2)))\n",
        "model.add(Dropout(0.2))\n",
        "model.add(Conv2D(64, (3, 3), activation='relu', padding='same'))\n",
        "model.add(BatchNormalization())\n",
        "model.add(Conv2D(64, (3, 3), activation='relu', padding='same'))\n",
        "model.add(BatchNormalization())\n",
        "model.add(MaxPooling2D((2, 2)))\n",
        "model.add(Dropout(0.3))\n",
        "model.add(Conv2D(128, (3, 3), activation='relu', padding='same'))\n",
        "model.add(BatchNormalization())\n",
        "model.add(Conv2D(128, (3, 3), activation='relu', padding='same'))\n",
        "model.add(BatchNormalization())\n",
        "model.add(MaxPooling2D((2, 2)))\n",
        "model.add(Dropout(0.4))\n",
        "model.add(Flatten())\n",
        "model.add(Dense(128, activation='relu'))\n",
        "model.add(BatchNormalization())\n",
        "model.add(Dropout(0.5))\n",
        "model.add(Dense(10, activation='softmax'))\n",
        "\n",
        "model.compile(loss='categorical_crossentropy', optimizer=Adam(lr=0.001), metrics=['accuracy'])\n",
        "\n",
        "datagen = ImageDataGenerator(width_shift_range=0.1, height_shift_range=0.1, rotation_range=10, horizontal_flip=True)\n",
        "it_train = datagen.flow(x_train10new, y_train10new, batch_size=batch_size)\n",
        "steps = int(x_train10new.shape[0] / batch_size)\n",
        "history = model.fit_generator(it_train, steps_per_epoch=steps, epochs=400, validation_data=(x_val10, y_val10), verbose=1)\n",
        "\n",
        "plt.plot(history.history['accuracy'],\n",
        "         label='Доля верных ответов на обучающем наборе')\n",
        "plt.plot(history.history['val_accuracy'],\n",
        "         label='Доля верных ответов на проверочном наборе')\n",
        "plt.legend()\n",
        "plt.show()"
      ],
      "execution_count": null,
      "outputs": [
        {
          "output_type": "stream",
          "text": [
            "WARNING:tensorflow:From <ipython-input-11-0525085bbc91>:33: Model.fit_generator (from tensorflow.python.keras.engine.training) is deprecated and will be removed in a future version.\n",
            "Instructions for updating:\n",
            "Please use Model.fit, which supports generators.\n",
            "Epoch 1/400\n",
            "625/625 [==============================] - 27s 43ms/step - loss: 1.8512 - accuracy: 0.3715 - val_loss: 1.4813 - val_accuracy: 0.4885\n",
            "Epoch 2/400\n",
            "625/625 [==============================] - 27s 43ms/step - loss: 1.2953 - accuracy: 0.5348 - val_loss: 1.5213 - val_accuracy: 0.5196\n",
            "Epoch 3/400\n",
            "625/625 [==============================] - 27s 43ms/step - loss: 1.0804 - accuracy: 0.6168 - val_loss: 1.1246 - val_accuracy: 0.6239\n",
            "Epoch 4/400\n",
            "625/625 [==============================] - 27s 43ms/step - loss: 0.9716 - accuracy: 0.6587 - val_loss: 0.9159 - val_accuracy: 0.6755\n",
            "Epoch 5/400\n",
            "625/625 [==============================] - 27s 43ms/step - loss: 0.9008 - accuracy: 0.6870 - val_loss: 0.8515 - val_accuracy: 0.7162\n",
            "Epoch 6/400\n",
            "625/625 [==============================] - 27s 43ms/step - loss: 0.8425 - accuracy: 0.7085 - val_loss: 0.9188 - val_accuracy: 0.6958\n",
            "Epoch 7/400\n",
            "625/625 [==============================] - 27s 43ms/step - loss: 0.7957 - accuracy: 0.7278 - val_loss: 0.8080 - val_accuracy: 0.7258\n",
            "Epoch 8/400\n",
            "625/625 [==============================] - 27s 43ms/step - loss: 0.7642 - accuracy: 0.7358 - val_loss: 0.6547 - val_accuracy: 0.7718\n",
            "Epoch 9/400\n",
            "625/625 [==============================] - 27s 43ms/step - loss: 0.7273 - accuracy: 0.7506 - val_loss: 0.6420 - val_accuracy: 0.7721\n",
            "Epoch 10/400\n",
            "625/625 [==============================] - 26s 42ms/step - loss: 0.7056 - accuracy: 0.7585 - val_loss: 0.6110 - val_accuracy: 0.7890\n",
            "Epoch 11/400\n",
            "625/625 [==============================] - 27s 43ms/step - loss: 0.6818 - accuracy: 0.7687 - val_loss: 0.7142 - val_accuracy: 0.7568\n",
            "Epoch 12/400\n",
            "625/625 [==============================] - 27s 43ms/step - loss: 0.6664 - accuracy: 0.7721 - val_loss: 0.7042 - val_accuracy: 0.7580\n",
            "Epoch 13/400\n",
            "625/625 [==============================] - 26s 42ms/step - loss: 0.6428 - accuracy: 0.7804 - val_loss: 0.5990 - val_accuracy: 0.7905\n",
            "Epoch 14/400\n",
            "625/625 [==============================] - 26s 42ms/step - loss: 0.6323 - accuracy: 0.7831 - val_loss: 0.5434 - val_accuracy: 0.8151\n",
            "Epoch 15/400\n",
            "625/625 [==============================] - 26s 42ms/step - loss: 0.6236 - accuracy: 0.7865 - val_loss: 0.5605 - val_accuracy: 0.8077\n",
            "Epoch 16/400\n",
            "625/625 [==============================] - 26s 42ms/step - loss: 0.6056 - accuracy: 0.7932 - val_loss: 0.5450 - val_accuracy: 0.8138\n",
            "Epoch 17/400\n",
            "625/625 [==============================] - 26s 42ms/step - loss: 0.5916 - accuracy: 0.8002 - val_loss: 0.5380 - val_accuracy: 0.8139\n",
            "Epoch 18/400\n",
            "625/625 [==============================] - 26s 42ms/step - loss: 0.5780 - accuracy: 0.8023 - val_loss: 0.4833 - val_accuracy: 0.8311\n",
            "Epoch 19/400\n",
            "625/625 [==============================] - 26s 42ms/step - loss: 0.5713 - accuracy: 0.8051 - val_loss: 0.5774 - val_accuracy: 0.8085\n",
            "Epoch 20/400\n",
            "625/625 [==============================] - 26s 42ms/step - loss: 0.5567 - accuracy: 0.8123 - val_loss: 0.4825 - val_accuracy: 0.8367\n",
            "Epoch 21/400\n",
            "625/625 [==============================] - 26s 42ms/step - loss: 0.5552 - accuracy: 0.8112 - val_loss: 0.4898 - val_accuracy: 0.8336\n",
            "Epoch 22/400\n",
            "625/625 [==============================] - 26s 42ms/step - loss: 0.5406 - accuracy: 0.8163 - val_loss: 0.5731 - val_accuracy: 0.8069\n",
            "Epoch 23/400\n",
            "625/625 [==============================] - 26s 42ms/step - loss: 0.5314 - accuracy: 0.8197 - val_loss: 0.5981 - val_accuracy: 0.8047\n",
            "Epoch 24/400\n",
            "625/625 [==============================] - 26s 42ms/step - loss: 0.5268 - accuracy: 0.8221 - val_loss: 0.4858 - val_accuracy: 0.8353\n",
            "Epoch 25/400\n",
            "625/625 [==============================] - 26s 42ms/step - loss: 0.5128 - accuracy: 0.8259 - val_loss: 0.6866 - val_accuracy: 0.7776\n",
            "Epoch 26/400\n",
            "625/625 [==============================] - 26s 42ms/step - loss: 0.5108 - accuracy: 0.8267 - val_loss: 0.5020 - val_accuracy: 0.8265\n",
            "Epoch 27/400\n",
            "625/625 [==============================] - 26s 42ms/step - loss: 0.5043 - accuracy: 0.8267 - val_loss: 0.4545 - val_accuracy: 0.8445\n",
            "Epoch 28/400\n",
            "625/625 [==============================] - 26s 42ms/step - loss: 0.5041 - accuracy: 0.8288 - val_loss: 0.4814 - val_accuracy: 0.8351\n",
            "Epoch 29/400\n",
            "625/625 [==============================] - 27s 42ms/step - loss: 0.4965 - accuracy: 0.8317 - val_loss: 0.5092 - val_accuracy: 0.8289\n",
            "Epoch 30/400\n",
            "625/625 [==============================] - 27s 43ms/step - loss: 0.4919 - accuracy: 0.8303 - val_loss: 0.4757 - val_accuracy: 0.8346\n",
            "Epoch 31/400\n",
            "625/625 [==============================] - 27s 43ms/step - loss: 0.4825 - accuracy: 0.8368 - val_loss: 0.5024 - val_accuracy: 0.8317\n",
            "Epoch 32/400\n",
            "625/625 [==============================] - 27s 43ms/step - loss: 0.4796 - accuracy: 0.8395 - val_loss: 0.4383 - val_accuracy: 0.8504\n",
            "Epoch 33/400\n",
            "625/625 [==============================] - 27s 43ms/step - loss: 0.4775 - accuracy: 0.8398 - val_loss: 0.4433 - val_accuracy: 0.8482\n",
            "Epoch 34/400\n",
            "625/625 [==============================] - 27s 43ms/step - loss: 0.4739 - accuracy: 0.8384 - val_loss: 0.4730 - val_accuracy: 0.8431\n",
            "Epoch 35/400\n",
            "625/625 [==============================] - 27s 43ms/step - loss: 0.4689 - accuracy: 0.8408 - val_loss: 0.4630 - val_accuracy: 0.8447\n",
            "Epoch 36/400\n",
            "625/625 [==============================] - 27s 43ms/step - loss: 0.4608 - accuracy: 0.8432 - val_loss: 0.4349 - val_accuracy: 0.8522\n",
            "Epoch 37/400\n",
            "625/625 [==============================] - 27s 42ms/step - loss: 0.4557 - accuracy: 0.8436 - val_loss: 0.4933 - val_accuracy: 0.8370\n",
            "Epoch 38/400\n",
            "625/625 [==============================] - 26s 42ms/step - loss: 0.4572 - accuracy: 0.8454 - val_loss: 0.4215 - val_accuracy: 0.8555\n",
            "Epoch 39/400\n",
            "625/625 [==============================] - 26s 42ms/step - loss: 0.4523 - accuracy: 0.8451 - val_loss: 0.4534 - val_accuracy: 0.8493\n",
            "Epoch 40/400\n",
            "625/625 [==============================] - 26s 42ms/step - loss: 0.4483 - accuracy: 0.8483 - val_loss: 0.4932 - val_accuracy: 0.8380\n",
            "Epoch 41/400\n",
            "625/625 [==============================] - 26s 42ms/step - loss: 0.4410 - accuracy: 0.8511 - val_loss: 0.5092 - val_accuracy: 0.8346\n",
            "Epoch 42/400\n",
            "625/625 [==============================] - 26s 42ms/step - loss: 0.4437 - accuracy: 0.8486 - val_loss: 0.4888 - val_accuracy: 0.8369\n",
            "Epoch 43/400\n",
            "625/625 [==============================] - 26s 42ms/step - loss: 0.4308 - accuracy: 0.8542 - val_loss: 0.4999 - val_accuracy: 0.8356\n",
            "Epoch 44/400\n",
            "625/625 [==============================] - 27s 43ms/step - loss: 0.4341 - accuracy: 0.8536 - val_loss: 0.5619 - val_accuracy: 0.8196\n",
            "Epoch 45/400\n",
            "625/625 [==============================] - 26s 42ms/step - loss: 0.4240 - accuracy: 0.8551 - val_loss: 0.4049 - val_accuracy: 0.8611\n",
            "Epoch 46/400\n",
            "625/625 [==============================] - 26s 42ms/step - loss: 0.4290 - accuracy: 0.8538 - val_loss: 0.4498 - val_accuracy: 0.8470\n",
            "Epoch 47/400\n",
            "625/625 [==============================] - 26s 41ms/step - loss: 0.4255 - accuracy: 0.8544 - val_loss: 0.3873 - val_accuracy: 0.8651\n",
            "Epoch 48/400\n",
            "625/625 [==============================] - 26s 42ms/step - loss: 0.4261 - accuracy: 0.8554 - val_loss: 0.4683 - val_accuracy: 0.8437\n",
            "Epoch 49/400\n",
            "625/625 [==============================] - 26s 42ms/step - loss: 0.4181 - accuracy: 0.8566 - val_loss: 0.4183 - val_accuracy: 0.8599\n",
            "Epoch 50/400\n",
            "625/625 [==============================] - 26s 42ms/step - loss: 0.4173 - accuracy: 0.8572 - val_loss: 0.3837 - val_accuracy: 0.8683\n",
            "Epoch 51/400\n",
            "625/625 [==============================] - 26s 41ms/step - loss: 0.4128 - accuracy: 0.8597 - val_loss: 0.4385 - val_accuracy: 0.8524\n",
            "Epoch 52/400\n",
            "625/625 [==============================] - 26s 42ms/step - loss: 0.4042 - accuracy: 0.8616 - val_loss: 0.4541 - val_accuracy: 0.8489\n",
            "Epoch 53/400\n",
            "625/625 [==============================] - 26s 41ms/step - loss: 0.4078 - accuracy: 0.8609 - val_loss: 0.4044 - val_accuracy: 0.8626\n",
            "Epoch 54/400\n",
            "625/625 [==============================] - 26s 41ms/step - loss: 0.4018 - accuracy: 0.8610 - val_loss: 0.4285 - val_accuracy: 0.8556\n",
            "Epoch 55/400\n",
            "625/625 [==============================] - 26s 41ms/step - loss: 0.4091 - accuracy: 0.8603 - val_loss: 0.4193 - val_accuracy: 0.8659\n",
            "Epoch 56/400\n",
            "625/625 [==============================] - 26s 41ms/step - loss: 0.4059 - accuracy: 0.8626 - val_loss: 0.3868 - val_accuracy: 0.8707\n",
            "Epoch 57/400\n",
            "625/625 [==============================] - 26s 41ms/step - loss: 0.3981 - accuracy: 0.8652 - val_loss: 0.4344 - val_accuracy: 0.8571\n",
            "Epoch 58/400\n",
            "625/625 [==============================] - 26s 42ms/step - loss: 0.3920 - accuracy: 0.8674 - val_loss: 0.4206 - val_accuracy: 0.8615\n",
            "Epoch 59/400\n",
            "625/625 [==============================] - 26s 41ms/step - loss: 0.3950 - accuracy: 0.8663 - val_loss: 0.3955 - val_accuracy: 0.8675\n",
            "Epoch 60/400\n",
            "625/625 [==============================] - 26s 41ms/step - loss: 0.3953 - accuracy: 0.8642 - val_loss: 0.3963 - val_accuracy: 0.8669\n",
            "Epoch 61/400\n",
            "625/625 [==============================] - 26s 41ms/step - loss: 0.3899 - accuracy: 0.8680 - val_loss: 0.4347 - val_accuracy: 0.8531\n",
            "Epoch 62/400\n",
            "625/625 [==============================] - 26s 41ms/step - loss: 0.3923 - accuracy: 0.8654 - val_loss: 0.4332 - val_accuracy: 0.8581\n",
            "Epoch 63/400\n",
            "625/625 [==============================] - 25s 41ms/step - loss: 0.3870 - accuracy: 0.8693 - val_loss: 0.3845 - val_accuracy: 0.8712\n",
            "Epoch 64/400\n",
            "625/625 [==============================] - 26s 41ms/step - loss: 0.3875 - accuracy: 0.8676 - val_loss: 0.4165 - val_accuracy: 0.8585\n",
            "Epoch 65/400\n",
            "625/625 [==============================] - 26s 41ms/step - loss: 0.3822 - accuracy: 0.8695 - val_loss: 0.3706 - val_accuracy: 0.8712\n",
            "Epoch 66/400\n",
            "625/625 [==============================] - 26s 41ms/step - loss: 0.3825 - accuracy: 0.8690 - val_loss: 0.3783 - val_accuracy: 0.8714\n",
            "Epoch 67/400\n",
            "625/625 [==============================] - 26s 41ms/step - loss: 0.3810 - accuracy: 0.8720 - val_loss: 0.3729 - val_accuracy: 0.8708\n",
            "Epoch 68/400\n",
            "625/625 [==============================] - 26s 41ms/step - loss: 0.3760 - accuracy: 0.8698 - val_loss: 0.4197 - val_accuracy: 0.8585\n",
            "Epoch 69/400\n",
            "625/625 [==============================] - 26s 41ms/step - loss: 0.3756 - accuracy: 0.8732 - val_loss: 0.3858 - val_accuracy: 0.8691\n",
            "Epoch 70/400\n",
            "625/625 [==============================] - 26s 41ms/step - loss: 0.3706 - accuracy: 0.8722 - val_loss: 0.3686 - val_accuracy: 0.8747\n",
            "Epoch 71/400\n",
            "625/625 [==============================] - 26s 41ms/step - loss: 0.3761 - accuracy: 0.8699 - val_loss: 0.4222 - val_accuracy: 0.8604\n",
            "Epoch 72/400\n",
            "625/625 [==============================] - 26s 41ms/step - loss: 0.3701 - accuracy: 0.8745 - val_loss: 0.3725 - val_accuracy: 0.8732\n",
            "Epoch 73/400\n",
            "625/625 [==============================] - 26s 41ms/step - loss: 0.3685 - accuracy: 0.8721 - val_loss: 0.3634 - val_accuracy: 0.8776\n",
            "Epoch 74/400\n",
            "625/625 [==============================] - 26s 41ms/step - loss: 0.3695 - accuracy: 0.8756 - val_loss: 0.3675 - val_accuracy: 0.8754\n",
            "Epoch 75/400\n",
            "625/625 [==============================] - 26s 41ms/step - loss: 0.3722 - accuracy: 0.8747 - val_loss: 0.4156 - val_accuracy: 0.8642\n",
            "Epoch 76/400\n",
            "625/625 [==============================] - 26s 41ms/step - loss: 0.3650 - accuracy: 0.8763 - val_loss: 0.3794 - val_accuracy: 0.8713\n",
            "Epoch 77/400\n",
            "625/625 [==============================] - 26s 41ms/step - loss: 0.3659 - accuracy: 0.8743 - val_loss: 0.3725 - val_accuracy: 0.8724\n",
            "Epoch 78/400\n",
            "625/625 [==============================] - 26s 42ms/step - loss: 0.3574 - accuracy: 0.8776 - val_loss: 0.4085 - val_accuracy: 0.8653\n",
            "Epoch 79/400\n",
            "625/625 [==============================] - 26s 41ms/step - loss: 0.3629 - accuracy: 0.8773 - val_loss: 0.3994 - val_accuracy: 0.8658\n",
            "Epoch 80/400\n",
            "625/625 [==============================] - 26s 41ms/step - loss: 0.3581 - accuracy: 0.8798 - val_loss: 0.4249 - val_accuracy: 0.8614\n",
            "Epoch 81/400\n",
            "625/625 [==============================] - 26s 41ms/step - loss: 0.3626 - accuracy: 0.8759 - val_loss: 0.4935 - val_accuracy: 0.8449\n",
            "Epoch 82/400\n",
            "625/625 [==============================] - 26s 42ms/step - loss: 0.3609 - accuracy: 0.8768 - val_loss: 0.4244 - val_accuracy: 0.8622\n",
            "Epoch 83/400\n",
            "625/625 [==============================] - 26s 41ms/step - loss: 0.3595 - accuracy: 0.8764 - val_loss: 0.3541 - val_accuracy: 0.8790\n",
            "Epoch 84/400\n",
            "625/625 [==============================] - 26s 41ms/step - loss: 0.3575 - accuracy: 0.8772 - val_loss: 0.3639 - val_accuracy: 0.8780\n",
            "Epoch 85/400\n",
            "625/625 [==============================] - 26s 41ms/step - loss: 0.3516 - accuracy: 0.8800 - val_loss: 0.4488 - val_accuracy: 0.8508\n",
            "Epoch 86/400\n",
            "625/625 [==============================] - 26s 41ms/step - loss: 0.3502 - accuracy: 0.8810 - val_loss: 0.3564 - val_accuracy: 0.8788\n",
            "Epoch 87/400\n",
            "625/625 [==============================] - 26s 41ms/step - loss: 0.3494 - accuracy: 0.8814 - val_loss: 0.4433 - val_accuracy: 0.8557\n",
            "Epoch 88/400\n",
            "625/625 [==============================] - 26s 41ms/step - loss: 0.3466 - accuracy: 0.8816 - val_loss: 0.3551 - val_accuracy: 0.8790\n",
            "Epoch 89/400\n",
            "625/625 [==============================] - 26s 41ms/step - loss: 0.3526 - accuracy: 0.8784 - val_loss: 0.3615 - val_accuracy: 0.8771\n",
            "Epoch 90/400\n",
            "625/625 [==============================] - 26s 41ms/step - loss: 0.3481 - accuracy: 0.8823 - val_loss: 0.3991 - val_accuracy: 0.8665\n",
            "Epoch 91/400\n",
            "625/625 [==============================] - 25s 41ms/step - loss: 0.3503 - accuracy: 0.8796 - val_loss: 0.3963 - val_accuracy: 0.8688\n",
            "Epoch 92/400\n",
            "625/625 [==============================] - 25s 41ms/step - loss: 0.3398 - accuracy: 0.8835 - val_loss: 0.3603 - val_accuracy: 0.8801\n",
            "Epoch 93/400\n",
            "625/625 [==============================] - 26s 41ms/step - loss: 0.3428 - accuracy: 0.8823 - val_loss: 0.4229 - val_accuracy: 0.8643\n",
            "Epoch 94/400\n",
            "625/625 [==============================] - 26s 41ms/step - loss: 0.3410 - accuracy: 0.8834 - val_loss: 0.3670 - val_accuracy: 0.8770\n",
            "Epoch 95/400\n",
            "625/625 [==============================] - 26s 41ms/step - loss: 0.3389 - accuracy: 0.8834 - val_loss: 0.3791 - val_accuracy: 0.8736\n",
            "Epoch 96/400\n",
            "625/625 [==============================] - 26s 41ms/step - loss: 0.3404 - accuracy: 0.8841 - val_loss: 0.3729 - val_accuracy: 0.8752\n",
            "Epoch 97/400\n",
            "625/625 [==============================] - 26s 41ms/step - loss: 0.3332 - accuracy: 0.8873 - val_loss: 0.3953 - val_accuracy: 0.8679\n",
            "Epoch 98/400\n",
            "625/625 [==============================] - 25s 41ms/step - loss: 0.3414 - accuracy: 0.8844 - val_loss: 0.3859 - val_accuracy: 0.8696\n",
            "Epoch 99/400\n",
            "625/625 [==============================] - 26s 41ms/step - loss: 0.3346 - accuracy: 0.8859 - val_loss: 0.3959 - val_accuracy: 0.8666\n",
            "Epoch 100/400\n",
            "625/625 [==============================] - 26s 41ms/step - loss: 0.3412 - accuracy: 0.8822 - val_loss: 0.3584 - val_accuracy: 0.8798\n",
            "Epoch 101/400\n",
            "625/625 [==============================] - 26s 41ms/step - loss: 0.3359 - accuracy: 0.8861 - val_loss: 0.3802 - val_accuracy: 0.8751\n",
            "Epoch 102/400\n",
            "625/625 [==============================] - 26s 41ms/step - loss: 0.3273 - accuracy: 0.8895 - val_loss: 0.4057 - val_accuracy: 0.8658\n",
            "Epoch 103/400\n",
            "625/625 [==============================] - 26s 41ms/step - loss: 0.3365 - accuracy: 0.8860 - val_loss: 0.3707 - val_accuracy: 0.8768\n",
            "Epoch 104/400\n",
            "625/625 [==============================] - 26s 41ms/step - loss: 0.3297 - accuracy: 0.8875 - val_loss: 0.3417 - val_accuracy: 0.8847\n",
            "Epoch 105/400\n",
            "625/625 [==============================] - 26s 41ms/step - loss: 0.3317 - accuracy: 0.8857 - val_loss: 0.3679 - val_accuracy: 0.8753\n",
            "Epoch 106/400\n",
            "625/625 [==============================] - 26s 41ms/step - loss: 0.3295 - accuracy: 0.8882 - val_loss: 0.3580 - val_accuracy: 0.8793\n",
            "Epoch 107/400\n",
            "625/625 [==============================] - 25s 41ms/step - loss: 0.3258 - accuracy: 0.8877 - val_loss: 0.4050 - val_accuracy: 0.8656\n",
            "Epoch 108/400\n",
            "625/625 [==============================] - 26s 41ms/step - loss: 0.3283 - accuracy: 0.8887 - val_loss: 0.3971 - val_accuracy: 0.8690\n",
            "Epoch 109/400\n",
            "625/625 [==============================] - 26s 41ms/step - loss: 0.3260 - accuracy: 0.8898 - val_loss: 0.3597 - val_accuracy: 0.8770\n",
            "Epoch 110/400\n",
            "625/625 [==============================] - 25s 41ms/step - loss: 0.3326 - accuracy: 0.8867 - val_loss: 0.4724 - val_accuracy: 0.8495\n",
            "Epoch 111/400\n",
            "625/625 [==============================] - 25s 41ms/step - loss: 0.3296 - accuracy: 0.8875 - val_loss: 0.3530 - val_accuracy: 0.8774\n",
            "Epoch 112/400\n",
            "625/625 [==============================] - 25s 41ms/step - loss: 0.3241 - accuracy: 0.8881 - val_loss: 0.4343 - val_accuracy: 0.8600\n",
            "Epoch 113/400\n",
            "625/625 [==============================] - 25s 41ms/step - loss: 0.3206 - accuracy: 0.8899 - val_loss: 0.3512 - val_accuracy: 0.8812\n",
            "Epoch 114/400\n",
            "625/625 [==============================] - 26s 41ms/step - loss: 0.3215 - accuracy: 0.8897 - val_loss: 0.3735 - val_accuracy: 0.8752\n",
            "Epoch 115/400\n",
            "625/625 [==============================] - 25s 41ms/step - loss: 0.3240 - accuracy: 0.8884 - val_loss: 0.3564 - val_accuracy: 0.8782\n",
            "Epoch 116/400\n",
            "625/625 [==============================] - 26s 41ms/step - loss: 0.3192 - accuracy: 0.8891 - val_loss: 0.3688 - val_accuracy: 0.8752\n",
            "Epoch 117/400\n",
            "625/625 [==============================] - 26s 41ms/step - loss: 0.3155 - accuracy: 0.8917 - val_loss: 0.3756 - val_accuracy: 0.8731\n",
            "Epoch 118/400\n",
            "625/625 [==============================] - 26s 41ms/step - loss: 0.3176 - accuracy: 0.8895 - val_loss: 0.3542 - val_accuracy: 0.8778\n",
            "Epoch 119/400\n",
            "625/625 [==============================] - 25s 41ms/step - loss: 0.3164 - accuracy: 0.8914 - val_loss: 0.3597 - val_accuracy: 0.8798\n",
            "Epoch 120/400\n",
            "625/625 [==============================] - 26s 41ms/step - loss: 0.3164 - accuracy: 0.8929 - val_loss: 0.3359 - val_accuracy: 0.8857\n",
            "Epoch 121/400\n",
            "625/625 [==============================] - 26s 41ms/step - loss: 0.3146 - accuracy: 0.8917 - val_loss: 0.3587 - val_accuracy: 0.8786\n",
            "Epoch 122/400\n",
            "625/625 [==============================] - 26s 41ms/step - loss: 0.3168 - accuracy: 0.8901 - val_loss: 0.3399 - val_accuracy: 0.8840\n",
            "Epoch 123/400\n",
            "625/625 [==============================] - 25s 41ms/step - loss: 0.3153 - accuracy: 0.8937 - val_loss: 0.4250 - val_accuracy: 0.8605\n",
            "Epoch 124/400\n",
            "625/625 [==============================] - 26s 41ms/step - loss: 0.3112 - accuracy: 0.8934 - val_loss: 0.3763 - val_accuracy: 0.8745\n",
            "Epoch 125/400\n",
            "625/625 [==============================] - 26s 41ms/step - loss: 0.3141 - accuracy: 0.8920 - val_loss: 0.3322 - val_accuracy: 0.8884\n",
            "Epoch 126/400\n",
            "625/625 [==============================] - 26s 41ms/step - loss: 0.3107 - accuracy: 0.8937 - val_loss: 0.3763 - val_accuracy: 0.8773\n",
            "Epoch 127/400\n",
            "625/625 [==============================] - 25s 41ms/step - loss: 0.3081 - accuracy: 0.8943 - val_loss: 0.3791 - val_accuracy: 0.8762\n",
            "Epoch 128/400\n",
            "625/625 [==============================] - 25s 40ms/step - loss: 0.3097 - accuracy: 0.8931 - val_loss: 0.3548 - val_accuracy: 0.8857\n",
            "Epoch 129/400\n",
            "625/625 [==============================] - 25s 40ms/step - loss: 0.3095 - accuracy: 0.8946 - val_loss: 0.3423 - val_accuracy: 0.8893\n",
            "Epoch 130/400\n",
            "625/625 [==============================] - 25s 41ms/step - loss: 0.3016 - accuracy: 0.8974 - val_loss: 0.3723 - val_accuracy: 0.8764\n",
            "Epoch 131/400\n",
            "625/625 [==============================] - 25s 41ms/step - loss: 0.3071 - accuracy: 0.8956 - val_loss: 0.3739 - val_accuracy: 0.8785\n",
            "Epoch 132/400\n",
            "625/625 [==============================] - 25s 40ms/step - loss: 0.3085 - accuracy: 0.8924 - val_loss: 0.3637 - val_accuracy: 0.8772\n",
            "Epoch 133/400\n",
            "625/625 [==============================] - 25s 41ms/step - loss: 0.3052 - accuracy: 0.8950 - val_loss: 0.3465 - val_accuracy: 0.8851\n",
            "Epoch 134/400\n",
            "625/625 [==============================] - 25s 41ms/step - loss: 0.3016 - accuracy: 0.8967 - val_loss: 0.3793 - val_accuracy: 0.8765\n",
            "Epoch 135/400\n",
            "625/625 [==============================] - 25s 40ms/step - loss: 0.3064 - accuracy: 0.8945 - val_loss: 0.3445 - val_accuracy: 0.8875\n",
            "Epoch 136/400\n",
            "625/625 [==============================] - 25s 40ms/step - loss: 0.3059 - accuracy: 0.8959 - val_loss: 0.3859 - val_accuracy: 0.8727\n",
            "Epoch 137/400\n",
            "625/625 [==============================] - 25s 41ms/step - loss: 0.3056 - accuracy: 0.8943 - val_loss: 0.3616 - val_accuracy: 0.8805\n",
            "Epoch 138/400\n",
            "625/625 [==============================] - 25s 41ms/step - loss: 0.3053 - accuracy: 0.8959 - val_loss: 0.3448 - val_accuracy: 0.8825\n",
            "Epoch 139/400\n",
            "625/625 [==============================] - 25s 40ms/step - loss: 0.3049 - accuracy: 0.8965 - val_loss: 0.3472 - val_accuracy: 0.8849\n",
            "Epoch 140/400\n",
            "625/625 [==============================] - 25s 40ms/step - loss: 0.2965 - accuracy: 0.8984 - val_loss: 0.3556 - val_accuracy: 0.8821\n",
            "Epoch 141/400\n",
            "625/625 [==============================] - 25s 40ms/step - loss: 0.2972 - accuracy: 0.8975 - val_loss: 0.3684 - val_accuracy: 0.8804\n",
            "Epoch 142/400\n",
            "625/625 [==============================] - 25s 40ms/step - loss: 0.3021 - accuracy: 0.8974 - val_loss: 0.3477 - val_accuracy: 0.8829\n",
            "Epoch 143/400\n",
            "625/625 [==============================] - 25s 41ms/step - loss: 0.2998 - accuracy: 0.8943 - val_loss: 0.3844 - val_accuracy: 0.8746\n",
            "Epoch 144/400\n",
            "625/625 [==============================] - 25s 40ms/step - loss: 0.2989 - accuracy: 0.8988 - val_loss: 0.3874 - val_accuracy: 0.8750\n",
            "Epoch 145/400\n",
            "625/625 [==============================] - 25s 40ms/step - loss: 0.3003 - accuracy: 0.8957 - val_loss: 0.3658 - val_accuracy: 0.8808\n",
            "Epoch 146/400\n",
            "625/625 [==============================] - 25s 40ms/step - loss: 0.2948 - accuracy: 0.8984 - val_loss: 0.3783 - val_accuracy: 0.8799\n",
            "Epoch 147/400\n",
            "625/625 [==============================] - 25s 40ms/step - loss: 0.2967 - accuracy: 0.8982 - val_loss: 0.3398 - val_accuracy: 0.8879\n",
            "Epoch 148/400\n",
            "625/625 [==============================] - 25s 39ms/step - loss: 0.2969 - accuracy: 0.8977 - val_loss: 0.3692 - val_accuracy: 0.8776\n",
            "Epoch 149/400\n",
            "625/625 [==============================] - 25s 39ms/step - loss: 0.2957 - accuracy: 0.8986 - val_loss: 0.3500 - val_accuracy: 0.8847\n",
            "Epoch 150/400\n",
            "625/625 [==============================] - 25s 40ms/step - loss: 0.2967 - accuracy: 0.8985 - val_loss: 0.3780 - val_accuracy: 0.8757\n",
            "Epoch 151/400\n",
            "625/625 [==============================] - 25s 39ms/step - loss: 0.3011 - accuracy: 0.8971 - val_loss: 0.3321 - val_accuracy: 0.8890\n",
            "Epoch 152/400\n",
            "625/625 [==============================] - 25s 40ms/step - loss: 0.2973 - accuracy: 0.8977 - val_loss: 0.3439 - val_accuracy: 0.8856\n",
            "Epoch 153/400\n",
            "625/625 [==============================] - 25s 39ms/step - loss: 0.2952 - accuracy: 0.8989 - val_loss: 0.3985 - val_accuracy: 0.8706\n",
            "Epoch 154/400\n",
            "625/625 [==============================] - 25s 40ms/step - loss: 0.2896 - accuracy: 0.8994 - val_loss: 0.3806 - val_accuracy: 0.8762\n",
            "Epoch 155/400\n",
            "625/625 [==============================] - 25s 40ms/step - loss: 0.2937 - accuracy: 0.8987 - val_loss: 0.3814 - val_accuracy: 0.8746\n",
            "Epoch 156/400\n",
            "625/625 [==============================] - 25s 40ms/step - loss: 0.2902 - accuracy: 0.9003 - val_loss: 0.3440 - val_accuracy: 0.8884\n",
            "Epoch 157/400\n",
            "625/625 [==============================] - 25s 40ms/step - loss: 0.2898 - accuracy: 0.8996 - val_loss: 0.3827 - val_accuracy: 0.8763\n",
            "Epoch 158/400\n",
            "625/625 [==============================] - 25s 39ms/step - loss: 0.2938 - accuracy: 0.8995 - val_loss: 0.3292 - val_accuracy: 0.8890\n",
            "Epoch 159/400\n",
            "625/625 [==============================] - 25s 39ms/step - loss: 0.2966 - accuracy: 0.8982 - val_loss: 0.3407 - val_accuracy: 0.8856\n",
            "Epoch 160/400\n",
            "625/625 [==============================] - 25s 39ms/step - loss: 0.2874 - accuracy: 0.9018 - val_loss: 0.3391 - val_accuracy: 0.8874\n",
            "Epoch 161/400\n",
            "625/625 [==============================] - 25s 40ms/step - loss: 0.2860 - accuracy: 0.9026 - val_loss: 0.4149 - val_accuracy: 0.8685\n",
            "Epoch 162/400\n",
            "625/625 [==============================] - 25s 40ms/step - loss: 0.2892 - accuracy: 0.8993 - val_loss: 0.3288 - val_accuracy: 0.8888\n",
            "Epoch 163/400\n",
            "625/625 [==============================] - 25s 39ms/step - loss: 0.2833 - accuracy: 0.9025 - val_loss: 0.3358 - val_accuracy: 0.8893\n",
            "Epoch 164/400\n",
            "625/625 [==============================] - 25s 40ms/step - loss: 0.2883 - accuracy: 0.9010 - val_loss: 0.3660 - val_accuracy: 0.8787\n",
            "Epoch 165/400\n",
            "625/625 [==============================] - 25s 40ms/step - loss: 0.2904 - accuracy: 0.9013 - val_loss: 0.3524 - val_accuracy: 0.8835\n",
            "Epoch 166/400\n",
            "625/625 [==============================] - 25s 40ms/step - loss: 0.2839 - accuracy: 0.9030 - val_loss: 0.3218 - val_accuracy: 0.8946\n",
            "Epoch 167/400\n",
            "625/625 [==============================] - 25s 40ms/step - loss: 0.2789 - accuracy: 0.9035 - val_loss: 0.3240 - val_accuracy: 0.8949\n",
            "Epoch 168/400\n",
            "625/625 [==============================] - 25s 40ms/step - loss: 0.2891 - accuracy: 0.9008 - val_loss: 0.3743 - val_accuracy: 0.8784\n",
            "Epoch 169/400\n",
            "625/625 [==============================] - 25s 40ms/step - loss: 0.2811 - accuracy: 0.9026 - val_loss: 0.3157 - val_accuracy: 0.8932\n",
            "Epoch 170/400\n",
            "625/625 [==============================] - 25s 40ms/step - loss: 0.2885 - accuracy: 0.9013 - val_loss: 0.3440 - val_accuracy: 0.8863\n",
            "Epoch 171/400\n",
            "625/625 [==============================] - 25s 40ms/step - loss: 0.2797 - accuracy: 0.9046 - val_loss: 0.3364 - val_accuracy: 0.8845\n",
            "Epoch 172/400\n",
            "625/625 [==============================] - 25s 40ms/step - loss: 0.2800 - accuracy: 0.9035 - val_loss: 0.3542 - val_accuracy: 0.8842\n",
            "Epoch 173/400\n",
            "625/625 [==============================] - 25s 40ms/step - loss: 0.2808 - accuracy: 0.9013 - val_loss: 0.3508 - val_accuracy: 0.8850\n",
            "Epoch 174/400\n",
            "625/625 [==============================] - 25s 40ms/step - loss: 0.2857 - accuracy: 0.9003 - val_loss: 0.3560 - val_accuracy: 0.8852\n",
            "Epoch 175/400\n",
            "625/625 [==============================] - 25s 40ms/step - loss: 0.2762 - accuracy: 0.9040 - val_loss: 0.3628 - val_accuracy: 0.8797\n",
            "Epoch 176/400\n",
            "625/625 [==============================] - 25s 40ms/step - loss: 0.2815 - accuracy: 0.9035 - val_loss: 0.3264 - val_accuracy: 0.8910\n",
            "Epoch 177/400\n",
            "625/625 [==============================] - 25s 40ms/step - loss: 0.2781 - accuracy: 0.9038 - val_loss: 0.3624 - val_accuracy: 0.8821\n",
            "Epoch 178/400\n",
            "625/625 [==============================] - 25s 40ms/step - loss: 0.2811 - accuracy: 0.9028 - val_loss: 0.3525 - val_accuracy: 0.8827\n",
            "Epoch 179/400\n",
            "625/625 [==============================] - 25s 40ms/step - loss: 0.2780 - accuracy: 0.9047 - val_loss: 0.3459 - val_accuracy: 0.8840\n",
            "Epoch 180/400\n",
            "625/625 [==============================] - 25s 40ms/step - loss: 0.2776 - accuracy: 0.9050 - val_loss: 0.3435 - val_accuracy: 0.8858\n",
            "Epoch 181/400\n",
            "625/625 [==============================] - 25s 40ms/step - loss: 0.2820 - accuracy: 0.9032 - val_loss: 0.3557 - val_accuracy: 0.8847\n",
            "Epoch 182/400\n",
            "625/625 [==============================] - 25s 39ms/step - loss: 0.2720 - accuracy: 0.9071 - val_loss: 0.3257 - val_accuracy: 0.8894\n",
            "Epoch 183/400\n",
            "625/625 [==============================] - 25s 39ms/step - loss: 0.2784 - accuracy: 0.9044 - val_loss: 0.3260 - val_accuracy: 0.8893\n",
            "Epoch 184/400\n",
            "625/625 [==============================] - 25s 39ms/step - loss: 0.2754 - accuracy: 0.9041 - val_loss: 0.3406 - val_accuracy: 0.8869\n",
            "Epoch 185/400\n",
            "625/625 [==============================] - 25s 39ms/step - loss: 0.2822 - accuracy: 0.9047 - val_loss: 0.3311 - val_accuracy: 0.8906\n",
            "Epoch 186/400\n",
            "625/625 [==============================] - 25s 40ms/step - loss: 0.2776 - accuracy: 0.9061 - val_loss: 0.3505 - val_accuracy: 0.8832\n",
            "Epoch 187/400\n",
            "625/625 [==============================] - 25s 39ms/step - loss: 0.2789 - accuracy: 0.9046 - val_loss: 0.3573 - val_accuracy: 0.8828\n",
            "Epoch 188/400\n",
            "625/625 [==============================] - 25s 39ms/step - loss: 0.2776 - accuracy: 0.9043 - val_loss: 0.3231 - val_accuracy: 0.8929\n",
            "Epoch 189/400\n",
            "625/625 [==============================] - 25s 39ms/step - loss: 0.2766 - accuracy: 0.9050 - val_loss: 0.3337 - val_accuracy: 0.8898\n",
            "Epoch 190/400\n",
            "625/625 [==============================] - 25s 40ms/step - loss: 0.2754 - accuracy: 0.9042 - val_loss: 0.3437 - val_accuracy: 0.8866\n",
            "Epoch 191/400\n",
            "625/625 [==============================] - 25s 40ms/step - loss: 0.2720 - accuracy: 0.9059 - val_loss: 0.3609 - val_accuracy: 0.8809\n",
            "Epoch 192/400\n",
            "625/625 [==============================] - 25s 40ms/step - loss: 0.2722 - accuracy: 0.9052 - val_loss: 0.3413 - val_accuracy: 0.8885\n",
            "Epoch 193/400\n",
            "625/625 [==============================] - 25s 40ms/step - loss: 0.2704 - accuracy: 0.9060 - val_loss: 0.3521 - val_accuracy: 0.8841\n",
            "Epoch 194/400\n",
            "625/625 [==============================] - 25s 39ms/step - loss: 0.2729 - accuracy: 0.9056 - val_loss: 0.3190 - val_accuracy: 0.8937\n",
            "Epoch 195/400\n",
            "625/625 [==============================] - 25s 39ms/step - loss: 0.2672 - accuracy: 0.9076 - val_loss: 0.3343 - val_accuracy: 0.8897\n",
            "Epoch 196/400\n",
            "625/625 [==============================] - 25s 40ms/step - loss: 0.2719 - accuracy: 0.9055 - val_loss: 0.3864 - val_accuracy: 0.8743\n",
            "Epoch 197/400\n",
            "625/625 [==============================] - 25s 39ms/step - loss: 0.2722 - accuracy: 0.9066 - val_loss: 0.4023 - val_accuracy: 0.8715\n",
            "Epoch 198/400\n",
            "625/625 [==============================] - 24s 39ms/step - loss: 0.2713 - accuracy: 0.9084 - val_loss: 0.3754 - val_accuracy: 0.8786\n",
            "Epoch 199/400\n",
            "625/625 [==============================] - 25s 40ms/step - loss: 0.2704 - accuracy: 0.9069 - val_loss: 0.3227 - val_accuracy: 0.8938\n",
            "Epoch 200/400\n",
            "625/625 [==============================] - 25s 39ms/step - loss: 0.2715 - accuracy: 0.9055 - val_loss: 0.3204 - val_accuracy: 0.8927\n",
            "Epoch 201/400\n",
            "625/625 [==============================] - 25s 39ms/step - loss: 0.2670 - accuracy: 0.9078 - val_loss: 0.3523 - val_accuracy: 0.8876\n",
            "Epoch 202/400\n",
            "625/625 [==============================] - 25s 39ms/step - loss: 0.2720 - accuracy: 0.9058 - val_loss: 0.3641 - val_accuracy: 0.8789\n",
            "Epoch 203/400\n",
            "625/625 [==============================] - 25s 39ms/step - loss: 0.2645 - accuracy: 0.9079 - val_loss: 0.3223 - val_accuracy: 0.8930\n",
            "Epoch 204/400\n",
            "625/625 [==============================] - 25s 39ms/step - loss: 0.2719 - accuracy: 0.9068 - val_loss: 0.3624 - val_accuracy: 0.8833\n",
            "Epoch 205/400\n",
            "625/625 [==============================] - 25s 40ms/step - loss: 0.2721 - accuracy: 0.9074 - val_loss: 0.3338 - val_accuracy: 0.8882\n",
            "Epoch 206/400\n",
            "625/625 [==============================] - 25s 40ms/step - loss: 0.2701 - accuracy: 0.9076 - val_loss: 0.3088 - val_accuracy: 0.8963\n",
            "Epoch 207/400\n",
            "625/625 [==============================] - 25s 39ms/step - loss: 0.2712 - accuracy: 0.9064 - val_loss: 0.3718 - val_accuracy: 0.8795\n",
            "Epoch 208/400\n",
            "625/625 [==============================] - 25s 39ms/step - loss: 0.2647 - accuracy: 0.9096 - val_loss: 0.3421 - val_accuracy: 0.8883\n",
            "Epoch 209/400\n",
            "625/625 [==============================] - 25s 39ms/step - loss: 0.2643 - accuracy: 0.9095 - val_loss: 0.3380 - val_accuracy: 0.8892\n",
            "Epoch 210/400\n",
            "625/625 [==============================] - 25s 39ms/step - loss: 0.2669 - accuracy: 0.9082 - val_loss: 0.3302 - val_accuracy: 0.8915\n",
            "Epoch 211/400\n",
            "625/625 [==============================] - 25s 40ms/step - loss: 0.2641 - accuracy: 0.9088 - val_loss: 0.3481 - val_accuracy: 0.8873\n",
            "Epoch 212/400\n",
            "625/625 [==============================] - 25s 39ms/step - loss: 0.2701 - accuracy: 0.9069 - val_loss: 0.3716 - val_accuracy: 0.8777\n",
            "Epoch 213/400\n",
            "625/625 [==============================] - 25s 39ms/step - loss: 0.2708 - accuracy: 0.9068 - val_loss: 0.3489 - val_accuracy: 0.8844\n",
            "Epoch 214/400\n",
            "625/625 [==============================] - 25s 39ms/step - loss: 0.2651 - accuracy: 0.9094 - val_loss: 0.3324 - val_accuracy: 0.8874\n",
            "Epoch 215/400\n",
            "625/625 [==============================] - 25s 39ms/step - loss: 0.2661 - accuracy: 0.9083 - val_loss: 0.3134 - val_accuracy: 0.8934\n",
            "Epoch 216/400\n",
            "625/625 [==============================] - 25s 39ms/step - loss: 0.2677 - accuracy: 0.9074 - val_loss: 0.3545 - val_accuracy: 0.8841\n",
            "Epoch 217/400\n",
            "625/625 [==============================] - 25s 39ms/step - loss: 0.2687 - accuracy: 0.9086 - val_loss: 0.3964 - val_accuracy: 0.8752\n",
            "Epoch 218/400\n",
            "625/625 [==============================] - 25s 40ms/step - loss: 0.2597 - accuracy: 0.9107 - val_loss: 0.3462 - val_accuracy: 0.8881\n",
            "Epoch 219/400\n",
            "625/625 [==============================] - 25s 39ms/step - loss: 0.2670 - accuracy: 0.9089 - val_loss: 0.3525 - val_accuracy: 0.8836\n",
            "Epoch 220/400\n",
            "625/625 [==============================] - 25s 39ms/step - loss: 0.2592 - accuracy: 0.9101 - val_loss: 0.3622 - val_accuracy: 0.8807\n",
            "Epoch 221/400\n",
            "625/625 [==============================] - 24s 39ms/step - loss: 0.2609 - accuracy: 0.9102 - val_loss: 0.3338 - val_accuracy: 0.8916\n",
            "Epoch 222/400\n",
            "625/625 [==============================] - 24s 39ms/step - loss: 0.2637 - accuracy: 0.9087 - val_loss: 0.3518 - val_accuracy: 0.8845\n",
            "Epoch 223/400\n",
            "625/625 [==============================] - 25s 40ms/step - loss: 0.2655 - accuracy: 0.9090 - val_loss: 0.3195 - val_accuracy: 0.8949\n",
            "Epoch 224/400\n",
            "625/625 [==============================] - 25s 39ms/step - loss: 0.2565 - accuracy: 0.9117 - val_loss: 0.3534 - val_accuracy: 0.8818\n",
            "Epoch 225/400\n",
            "625/625 [==============================] - 25s 39ms/step - loss: 0.2603 - accuracy: 0.9107 - val_loss: 0.3527 - val_accuracy: 0.8842\n",
            "Epoch 226/400\n",
            "625/625 [==============================] - 25s 39ms/step - loss: 0.2571 - accuracy: 0.9099 - val_loss: 0.3574 - val_accuracy: 0.8861\n",
            "Epoch 227/400\n",
            "625/625 [==============================] - 25s 39ms/step - loss: 0.2576 - accuracy: 0.9123 - val_loss: 0.3654 - val_accuracy: 0.8835\n",
            "Epoch 228/400\n",
            "625/625 [==============================] - 25s 39ms/step - loss: 0.2627 - accuracy: 0.9093 - val_loss: 0.3932 - val_accuracy: 0.8759\n",
            "Epoch 229/400\n",
            "625/625 [==============================] - 24s 39ms/step - loss: 0.2554 - accuracy: 0.9122 - val_loss: 0.3447 - val_accuracy: 0.8852\n",
            "Epoch 230/400\n",
            "625/625 [==============================] - 25s 40ms/step - loss: 0.2586 - accuracy: 0.9119 - val_loss: 0.3556 - val_accuracy: 0.8831\n",
            "Epoch 231/400\n",
            "625/625 [==============================] - 25s 39ms/step - loss: 0.2602 - accuracy: 0.9099 - val_loss: 0.2957 - val_accuracy: 0.9017\n",
            "Epoch 232/400\n",
            "625/625 [==============================] - 25s 39ms/step - loss: 0.2615 - accuracy: 0.9103 - val_loss: 0.3360 - val_accuracy: 0.8873\n",
            "Epoch 233/400\n",
            "625/625 [==============================] - 25s 39ms/step - loss: 0.2550 - accuracy: 0.9133 - val_loss: 0.3112 - val_accuracy: 0.8955\n",
            "Epoch 234/400\n",
            "625/625 [==============================] - 24s 39ms/step - loss: 0.2574 - accuracy: 0.9120 - val_loss: 0.3971 - val_accuracy: 0.8769\n",
            "Epoch 235/400\n",
            "625/625 [==============================] - 25s 40ms/step - loss: 0.2574 - accuracy: 0.9112 - val_loss: 0.3124 - val_accuracy: 0.8965\n",
            "Epoch 236/400\n",
            "625/625 [==============================] - 25s 40ms/step - loss: 0.2539 - accuracy: 0.9106 - val_loss: 0.3199 - val_accuracy: 0.8954\n",
            "Epoch 237/400\n",
            "625/625 [==============================] - 25s 39ms/step - loss: 0.2539 - accuracy: 0.9123 - val_loss: 0.3263 - val_accuracy: 0.8917\n",
            "Epoch 238/400\n",
            "625/625 [==============================] - 25s 39ms/step - loss: 0.2524 - accuracy: 0.9124 - val_loss: 0.3103 - val_accuracy: 0.8959\n",
            "Epoch 239/400\n",
            "625/625 [==============================] - 25s 40ms/step - loss: 0.2532 - accuracy: 0.9138 - val_loss: 0.2941 - val_accuracy: 0.9007\n",
            "Epoch 240/400\n",
            "625/625 [==============================] - 25s 39ms/step - loss: 0.2552 - accuracy: 0.9129 - val_loss: 0.3693 - val_accuracy: 0.8811\n",
            "Epoch 241/400\n",
            "625/625 [==============================] - 25s 39ms/step - loss: 0.2585 - accuracy: 0.9117 - val_loss: 0.3106 - val_accuracy: 0.8971\n",
            "Epoch 242/400\n",
            "625/625 [==============================] - 25s 39ms/step - loss: 0.2580 - accuracy: 0.9113 - val_loss: 0.3201 - val_accuracy: 0.8939\n",
            "Epoch 243/400\n",
            "625/625 [==============================] - 25s 40ms/step - loss: 0.2576 - accuracy: 0.9100 - val_loss: 0.3266 - val_accuracy: 0.8907\n",
            "Epoch 244/400\n",
            "625/625 [==============================] - 25s 40ms/step - loss: 0.2524 - accuracy: 0.9129 - val_loss: 0.3563 - val_accuracy: 0.8853\n",
            "Epoch 245/400\n",
            "625/625 [==============================] - 25s 39ms/step - loss: 0.2482 - accuracy: 0.9131 - val_loss: 0.3423 - val_accuracy: 0.8861\n",
            "Epoch 246/400\n",
            "625/625 [==============================] - 25s 39ms/step - loss: 0.2519 - accuracy: 0.9144 - val_loss: 0.3248 - val_accuracy: 0.8967\n",
            "Epoch 247/400\n",
            "625/625 [==============================] - 25s 40ms/step - loss: 0.2544 - accuracy: 0.9128 - val_loss: 0.3341 - val_accuracy: 0.8892\n",
            "Epoch 248/400\n",
            "625/625 [==============================] - 25s 40ms/step - loss: 0.2542 - accuracy: 0.9121 - val_loss: 0.3698 - val_accuracy: 0.8832\n",
            "Epoch 249/400\n",
            "625/625 [==============================] - 25s 39ms/step - loss: 0.2511 - accuracy: 0.9132 - val_loss: 0.3254 - val_accuracy: 0.8920\n",
            "Epoch 250/400\n",
            "625/625 [==============================] - 25s 39ms/step - loss: 0.2509 - accuracy: 0.9136 - val_loss: 0.3685 - val_accuracy: 0.8855\n",
            "Epoch 251/400\n",
            "625/625 [==============================] - 25s 39ms/step - loss: 0.2456 - accuracy: 0.9140 - val_loss: 0.3602 - val_accuracy: 0.8860\n",
            "Epoch 252/400\n",
            "625/625 [==============================] - 25s 39ms/step - loss: 0.2548 - accuracy: 0.9105 - val_loss: 0.3779 - val_accuracy: 0.8784\n",
            "Epoch 253/400\n",
            "625/625 [==============================] - 25s 39ms/step - loss: 0.2505 - accuracy: 0.9127 - val_loss: 0.3327 - val_accuracy: 0.8898\n",
            "Epoch 254/400\n",
            "625/625 [==============================] - 25s 39ms/step - loss: 0.2483 - accuracy: 0.9143 - val_loss: 0.3142 - val_accuracy: 0.8935\n",
            "Epoch 255/400\n",
            "625/625 [==============================] - 25s 40ms/step - loss: 0.2505 - accuracy: 0.9143 - val_loss: 0.3370 - val_accuracy: 0.8904\n",
            "Epoch 256/400\n",
            "625/625 [==============================] - 25s 40ms/step - loss: 0.2498 - accuracy: 0.9140 - val_loss: 0.3548 - val_accuracy: 0.8864\n",
            "Epoch 257/400\n",
            "625/625 [==============================] - 25s 39ms/step - loss: 0.2507 - accuracy: 0.9144 - val_loss: 0.3897 - val_accuracy: 0.8763\n",
            "Epoch 258/400\n",
            "625/625 [==============================] - 25s 40ms/step - loss: 0.2489 - accuracy: 0.9150 - val_loss: 0.3427 - val_accuracy: 0.8867\n",
            "Epoch 259/400\n",
            "625/625 [==============================] - 25s 40ms/step - loss: 0.2461 - accuracy: 0.9145 - val_loss: 0.3487 - val_accuracy: 0.8887\n",
            "Epoch 260/400\n",
            "625/625 [==============================] - 25s 40ms/step - loss: 0.2464 - accuracy: 0.9162 - val_loss: 0.3281 - val_accuracy: 0.8949\n",
            "Epoch 261/400\n",
            "625/625 [==============================] - 25s 40ms/step - loss: 0.2508 - accuracy: 0.9140 - val_loss: 0.3299 - val_accuracy: 0.8911\n",
            "Epoch 262/400\n",
            "625/625 [==============================] - 25s 39ms/step - loss: 0.2475 - accuracy: 0.9143 - val_loss: 0.3323 - val_accuracy: 0.8918\n",
            "Epoch 263/400\n",
            "625/625 [==============================] - 24s 39ms/step - loss: 0.2423 - accuracy: 0.9175 - val_loss: 0.3550 - val_accuracy: 0.8854\n",
            "Epoch 264/400\n",
            "625/625 [==============================] - 25s 40ms/step - loss: 0.2535 - accuracy: 0.9122 - val_loss: 0.3349 - val_accuracy: 0.8905\n",
            "Epoch 265/400\n",
            "625/625 [==============================] - 25s 39ms/step - loss: 0.2484 - accuracy: 0.9150 - val_loss: 0.3489 - val_accuracy: 0.8875\n",
            "Epoch 266/400\n",
            "625/625 [==============================] - 25s 40ms/step - loss: 0.2463 - accuracy: 0.9157 - val_loss: 0.3059 - val_accuracy: 0.8993\n",
            "Epoch 267/400\n",
            "625/625 [==============================] - 25s 39ms/step - loss: 0.2457 - accuracy: 0.9157 - val_loss: 0.3196 - val_accuracy: 0.8920\n",
            "Epoch 268/400\n",
            "625/625 [==============================] - 25s 40ms/step - loss: 0.2461 - accuracy: 0.9156 - val_loss: 0.3495 - val_accuracy: 0.8878\n",
            "Epoch 269/400\n",
            "625/625 [==============================] - 25s 40ms/step - loss: 0.2449 - accuracy: 0.9153 - val_loss: 0.3476 - val_accuracy: 0.8874\n",
            "Epoch 270/400\n",
            "625/625 [==============================] - 25s 39ms/step - loss: 0.2492 - accuracy: 0.9129 - val_loss: 0.3502 - val_accuracy: 0.8869\n",
            "Epoch 271/400\n",
            "625/625 [==============================] - 25s 39ms/step - loss: 0.2466 - accuracy: 0.9143 - val_loss: 0.3308 - val_accuracy: 0.8899\n",
            "Epoch 272/400\n",
            "625/625 [==============================] - 25s 40ms/step - loss: 0.2495 - accuracy: 0.9145 - val_loss: 0.3309 - val_accuracy: 0.8919\n",
            "Epoch 273/400\n",
            "625/625 [==============================] - 25s 40ms/step - loss: 0.2478 - accuracy: 0.9141 - val_loss: 0.3455 - val_accuracy: 0.8873\n",
            "Epoch 274/400\n",
            "625/625 [==============================] - 25s 39ms/step - loss: 0.2528 - accuracy: 0.9126 - val_loss: 0.3339 - val_accuracy: 0.8907\n",
            "Epoch 275/400\n",
            "625/625 [==============================] - 25s 39ms/step - loss: 0.2451 - accuracy: 0.9143 - val_loss: 0.3187 - val_accuracy: 0.8960\n",
            "Epoch 276/400\n",
            "625/625 [==============================] - 25s 39ms/step - loss: 0.2429 - accuracy: 0.9165 - val_loss: 0.3073 - val_accuracy: 0.8988\n",
            "Epoch 277/400\n",
            "625/625 [==============================] - 25s 39ms/step - loss: 0.2452 - accuracy: 0.9148 - val_loss: 0.3287 - val_accuracy: 0.8942\n",
            "Epoch 278/400\n",
            "625/625 [==============================] - 25s 39ms/step - loss: 0.2440 - accuracy: 0.9149 - val_loss: 0.3403 - val_accuracy: 0.8902\n",
            "Epoch 279/400\n",
            "625/625 [==============================] - 25s 39ms/step - loss: 0.2472 - accuracy: 0.9152 - val_loss: 0.3722 - val_accuracy: 0.8822\n",
            "Epoch 280/400\n",
            "625/625 [==============================] - 25s 40ms/step - loss: 0.2422 - accuracy: 0.9151 - val_loss: 0.2964 - val_accuracy: 0.9004\n",
            "Epoch 281/400\n",
            "625/625 [==============================] - 25s 40ms/step - loss: 0.2392 - accuracy: 0.9165 - val_loss: 0.3061 - val_accuracy: 0.9004\n",
            "Epoch 282/400\n",
            "625/625 [==============================] - 25s 39ms/step - loss: 0.2461 - accuracy: 0.9138 - val_loss: 0.3263 - val_accuracy: 0.8939\n",
            "Epoch 283/400\n",
            "625/625 [==============================] - 25s 40ms/step - loss: 0.2393 - accuracy: 0.9168 - val_loss: 0.3479 - val_accuracy: 0.8887\n",
            "Epoch 284/400\n",
            "625/625 [==============================] - 25s 39ms/step - loss: 0.2430 - accuracy: 0.9148 - val_loss: 0.3346 - val_accuracy: 0.8917\n",
            "Epoch 285/400\n",
            "625/625 [==============================] - 25s 39ms/step - loss: 0.2431 - accuracy: 0.9177 - val_loss: 0.3183 - val_accuracy: 0.8956\n",
            "Epoch 286/400\n",
            "625/625 [==============================] - 25s 39ms/step - loss: 0.2438 - accuracy: 0.9155 - val_loss: 0.3486 - val_accuracy: 0.8887\n",
            "Epoch 287/400\n",
            "625/625 [==============================] - 25s 39ms/step - loss: 0.2437 - accuracy: 0.9164 - val_loss: 0.3543 - val_accuracy: 0.8874\n",
            "Epoch 288/400\n",
            "625/625 [==============================] - 25s 39ms/step - loss: 0.2439 - accuracy: 0.9165 - val_loss: 0.2933 - val_accuracy: 0.9024\n",
            "Epoch 289/400\n",
            "625/625 [==============================] - 25s 39ms/step - loss: 0.2418 - accuracy: 0.9170 - val_loss: 0.3658 - val_accuracy: 0.8842\n",
            "Epoch 290/400\n",
            "625/625 [==============================] - 25s 39ms/step - loss: 0.2411 - accuracy: 0.9168 - val_loss: 0.3720 - val_accuracy: 0.8805\n",
            "Epoch 291/400\n",
            "625/625 [==============================] - 25s 39ms/step - loss: 0.2446 - accuracy: 0.9157 - val_loss: 0.3157 - val_accuracy: 0.8977\n",
            "Epoch 292/400\n",
            "625/625 [==============================] - 25s 39ms/step - loss: 0.2384 - accuracy: 0.9176 - val_loss: 0.4100 - val_accuracy: 0.8753\n",
            "Epoch 293/400\n",
            "625/625 [==============================] - 25s 40ms/step - loss: 0.2403 - accuracy: 0.9174 - val_loss: 0.3047 - val_accuracy: 0.9025\n",
            "Epoch 294/400\n",
            "625/625 [==============================] - 24s 39ms/step - loss: 0.2491 - accuracy: 0.9146 - val_loss: 0.3201 - val_accuracy: 0.8954\n",
            "Epoch 295/400\n",
            "625/625 [==============================] - 25s 39ms/step - loss: 0.2380 - accuracy: 0.9168 - val_loss: 0.3267 - val_accuracy: 0.8950\n",
            "Epoch 296/400\n",
            "625/625 [==============================] - 25s 40ms/step - loss: 0.2396 - accuracy: 0.9166 - val_loss: 0.3425 - val_accuracy: 0.8889\n",
            "Epoch 297/400\n",
            "625/625 [==============================] - 25s 40ms/step - loss: 0.2423 - accuracy: 0.9161 - val_loss: 0.3350 - val_accuracy: 0.8944\n",
            "Epoch 298/400\n",
            "625/625 [==============================] - 25s 40ms/step - loss: 0.2385 - accuracy: 0.9190 - val_loss: 0.3266 - val_accuracy: 0.8949\n",
            "Epoch 299/400\n",
            "625/625 [==============================] - 24s 39ms/step - loss: 0.2416 - accuracy: 0.9172 - val_loss: 0.3330 - val_accuracy: 0.8915\n",
            "Epoch 300/400\n",
            "625/625 [==============================] - 25s 39ms/step - loss: 0.2400 - accuracy: 0.9179 - val_loss: 0.3226 - val_accuracy: 0.8933\n",
            "Epoch 301/400\n",
            "625/625 [==============================] - 25s 39ms/step - loss: 0.2409 - accuracy: 0.9171 - val_loss: 0.3137 - val_accuracy: 0.8971\n",
            "Epoch 302/400\n",
            "625/625 [==============================] - 25s 39ms/step - loss: 0.2378 - accuracy: 0.9180 - val_loss: 0.3116 - val_accuracy: 0.9008\n",
            "Epoch 303/400\n",
            "625/625 [==============================] - 25s 40ms/step - loss: 0.2324 - accuracy: 0.9201 - val_loss: 0.3364 - val_accuracy: 0.8927\n",
            "Epoch 304/400\n",
            "625/625 [==============================] - 25s 39ms/step - loss: 0.2378 - accuracy: 0.9182 - val_loss: 0.3241 - val_accuracy: 0.8948\n",
            "Epoch 305/400\n",
            "625/625 [==============================] - 25s 40ms/step - loss: 0.2427 - accuracy: 0.9153 - val_loss: 0.3243 - val_accuracy: 0.8948\n",
            "Epoch 306/400\n",
            "625/625 [==============================] - 25s 40ms/step - loss: 0.2427 - accuracy: 0.9165 - val_loss: 0.3402 - val_accuracy: 0.8946\n",
            "Epoch 307/400\n",
            "625/625 [==============================] - 25s 40ms/step - loss: 0.2378 - accuracy: 0.9175 - val_loss: 0.3263 - val_accuracy: 0.8952\n",
            "Epoch 308/400\n",
            "625/625 [==============================] - 25s 40ms/step - loss: 0.2421 - accuracy: 0.9176 - val_loss: 0.2935 - val_accuracy: 0.9024\n",
            "Epoch 309/400\n",
            "625/625 [==============================] - 25s 40ms/step - loss: 0.2354 - accuracy: 0.9183 - val_loss: 0.3663 - val_accuracy: 0.8848\n",
            "Epoch 310/400\n",
            "625/625 [==============================] - 25s 40ms/step - loss: 0.2385 - accuracy: 0.9198 - val_loss: 0.3230 - val_accuracy: 0.8939\n",
            "Epoch 311/400\n",
            "625/625 [==============================] - 25s 40ms/step - loss: 0.2352 - accuracy: 0.9181 - val_loss: 0.3332 - val_accuracy: 0.8913\n",
            "Epoch 312/400\n",
            "625/625 [==============================] - 25s 40ms/step - loss: 0.2409 - accuracy: 0.9176 - val_loss: 0.3616 - val_accuracy: 0.8869\n",
            "Epoch 313/400\n",
            "625/625 [==============================] - 25s 40ms/step - loss: 0.2351 - accuracy: 0.9186 - val_loss: 0.3233 - val_accuracy: 0.8932\n",
            "Epoch 314/400\n",
            "625/625 [==============================] - 25s 39ms/step - loss: 0.2377 - accuracy: 0.9180 - val_loss: 0.3041 - val_accuracy: 0.8992\n",
            "Epoch 315/400\n",
            "625/625 [==============================] - 25s 39ms/step - loss: 0.2371 - accuracy: 0.9170 - val_loss: 0.3207 - val_accuracy: 0.8942\n",
            "Epoch 316/400\n",
            "625/625 [==============================] - 25s 39ms/step - loss: 0.2370 - accuracy: 0.9180 - val_loss: 0.3218 - val_accuracy: 0.8951\n",
            "Epoch 317/400\n",
            "625/625 [==============================] - 25s 39ms/step - loss: 0.2398 - accuracy: 0.9187 - val_loss: 0.3572 - val_accuracy: 0.8866\n",
            "Epoch 318/400\n",
            "625/625 [==============================] - 25s 40ms/step - loss: 0.2313 - accuracy: 0.9205 - val_loss: 0.3333 - val_accuracy: 0.8935\n",
            "Epoch 319/400\n",
            "625/625 [==============================] - 24s 39ms/step - loss: 0.2361 - accuracy: 0.9183 - val_loss: 0.3634 - val_accuracy: 0.8831\n",
            "Epoch 320/400\n",
            "625/625 [==============================] - 25s 39ms/step - loss: 0.2354 - accuracy: 0.9183 - val_loss: 0.3081 - val_accuracy: 0.8976\n",
            "Epoch 321/400\n",
            "625/625 [==============================] - 25s 39ms/step - loss: 0.2323 - accuracy: 0.9183 - val_loss: 0.3199 - val_accuracy: 0.8977\n",
            "Epoch 322/400\n",
            "625/625 [==============================] - 25s 40ms/step - loss: 0.2335 - accuracy: 0.9190 - val_loss: 0.3550 - val_accuracy: 0.8868\n",
            "Epoch 323/400\n",
            "625/625 [==============================] - 25s 39ms/step - loss: 0.2343 - accuracy: 0.9203 - val_loss: 0.3786 - val_accuracy: 0.8812\n",
            "Epoch 324/400\n",
            "625/625 [==============================] - 25s 40ms/step - loss: 0.2420 - accuracy: 0.9160 - val_loss: 0.3340 - val_accuracy: 0.8903\n",
            "Epoch 325/400\n",
            "625/625 [==============================] - 25s 39ms/step - loss: 0.2330 - accuracy: 0.9180 - val_loss: 0.3259 - val_accuracy: 0.8906\n",
            "Epoch 326/400\n",
            "625/625 [==============================] - 25s 39ms/step - loss: 0.2361 - accuracy: 0.9174 - val_loss: 0.3519 - val_accuracy: 0.8876\n",
            "Epoch 327/400\n",
            "625/625 [==============================] - 25s 40ms/step - loss: 0.2325 - accuracy: 0.9211 - val_loss: 0.3257 - val_accuracy: 0.8945\n",
            "Epoch 328/400\n",
            "625/625 [==============================] - 25s 39ms/step - loss: 0.2316 - accuracy: 0.9197 - val_loss: 0.3461 - val_accuracy: 0.8895\n",
            "Epoch 329/400\n",
            "625/625 [==============================] - 25s 39ms/step - loss: 0.2298 - accuracy: 0.9204 - val_loss: 0.3115 - val_accuracy: 0.9010\n",
            "Epoch 330/400\n",
            "625/625 [==============================] - 25s 39ms/step - loss: 0.2368 - accuracy: 0.9193 - val_loss: 0.3455 - val_accuracy: 0.8860\n",
            "Epoch 331/400\n",
            "625/625 [==============================] - 25s 40ms/step - loss: 0.2283 - accuracy: 0.9205 - val_loss: 0.3748 - val_accuracy: 0.8810\n",
            "Epoch 332/400\n",
            "625/625 [==============================] - 25s 40ms/step - loss: 0.2324 - accuracy: 0.9174 - val_loss: 0.3460 - val_accuracy: 0.8889\n",
            "Epoch 333/400\n",
            "625/625 [==============================] - 25s 39ms/step - loss: 0.2331 - accuracy: 0.9197 - val_loss: 0.2940 - val_accuracy: 0.9027\n",
            "Epoch 334/400\n",
            "625/625 [==============================] - 25s 40ms/step - loss: 0.2316 - accuracy: 0.9206 - val_loss: 0.3277 - val_accuracy: 0.8938\n",
            "Epoch 335/400\n",
            "625/625 [==============================] - 25s 39ms/step - loss: 0.2269 - accuracy: 0.9207 - val_loss: 0.3384 - val_accuracy: 0.8913\n",
            "Epoch 336/400\n",
            "625/625 [==============================] - 25s 39ms/step - loss: 0.2389 - accuracy: 0.9176 - val_loss: 0.3321 - val_accuracy: 0.8951\n",
            "Epoch 337/400\n",
            "625/625 [==============================] - 25s 39ms/step - loss: 0.2300 - accuracy: 0.9211 - val_loss: 0.3078 - val_accuracy: 0.9017\n",
            "Epoch 338/400\n",
            "625/625 [==============================] - 24s 39ms/step - loss: 0.2282 - accuracy: 0.9213 - val_loss: 0.2952 - val_accuracy: 0.9051\n",
            "Epoch 339/400\n",
            "625/625 [==============================] - 25s 39ms/step - loss: 0.2331 - accuracy: 0.9194 - val_loss: 0.3505 - val_accuracy: 0.8905\n",
            "Epoch 340/400\n",
            "625/625 [==============================] - 24s 39ms/step - loss: 0.2263 - accuracy: 0.9215 - val_loss: 0.3166 - val_accuracy: 0.8971\n",
            "Epoch 341/400\n",
            "625/625 [==============================] - 25s 39ms/step - loss: 0.2288 - accuracy: 0.9207 - val_loss: 0.3142 - val_accuracy: 0.8999\n",
            "Epoch 342/400\n",
            "625/625 [==============================] - 24s 39ms/step - loss: 0.2327 - accuracy: 0.9193 - val_loss: 0.3310 - val_accuracy: 0.8922\n",
            "Epoch 343/400\n",
            "625/625 [==============================] - 25s 39ms/step - loss: 0.2278 - accuracy: 0.9216 - val_loss: 0.3698 - val_accuracy: 0.8851\n",
            "Epoch 344/400\n",
            "625/625 [==============================] - 25s 39ms/step - loss: 0.2256 - accuracy: 0.9201 - val_loss: 0.3306 - val_accuracy: 0.8925\n",
            "Epoch 345/400\n",
            "625/625 [==============================] - 24s 39ms/step - loss: 0.2294 - accuracy: 0.9212 - val_loss: 0.3287 - val_accuracy: 0.8928\n",
            "Epoch 346/400\n",
            "625/625 [==============================] - 25s 39ms/step - loss: 0.2325 - accuracy: 0.9194 - val_loss: 0.3159 - val_accuracy: 0.8953\n",
            "Epoch 347/400\n",
            "625/625 [==============================] - 25s 40ms/step - loss: 0.2266 - accuracy: 0.9222 - val_loss: 0.3354 - val_accuracy: 0.8921\n",
            "Epoch 348/400\n",
            "625/625 [==============================] - 24s 39ms/step - loss: 0.2271 - accuracy: 0.9223 - val_loss: 0.3705 - val_accuracy: 0.8823\n",
            "Epoch 349/400\n",
            "625/625 [==============================] - 24s 39ms/step - loss: 0.2254 - accuracy: 0.9232 - val_loss: 0.3378 - val_accuracy: 0.8912\n",
            "Epoch 350/400\n",
            "625/625 [==============================] - 24s 39ms/step - loss: 0.2310 - accuracy: 0.9195 - val_loss: 0.3098 - val_accuracy: 0.8971\n",
            "Epoch 351/400\n",
            "625/625 [==============================] - 25s 39ms/step - loss: 0.2276 - accuracy: 0.9222 - val_loss: 0.3059 - val_accuracy: 0.9018\n",
            "Epoch 352/400\n",
            "625/625 [==============================] - 24s 39ms/step - loss: 0.2263 - accuracy: 0.9227 - val_loss: 0.3516 - val_accuracy: 0.8915\n",
            "Epoch 353/400\n",
            "625/625 [==============================] - 25s 39ms/step - loss: 0.2331 - accuracy: 0.9194 - val_loss: 0.3515 - val_accuracy: 0.8870\n",
            "Epoch 354/400\n",
            "625/625 [==============================] - 25s 39ms/step - loss: 0.2290 - accuracy: 0.9208 - val_loss: 0.3351 - val_accuracy: 0.8929\n",
            "Epoch 355/400\n",
            "625/625 [==============================] - 24s 39ms/step - loss: 0.2254 - accuracy: 0.9215 - val_loss: 0.3241 - val_accuracy: 0.8998\n",
            "Epoch 356/400\n",
            "625/625 [==============================] - 25s 40ms/step - loss: 0.2287 - accuracy: 0.9208 - val_loss: 0.3706 - val_accuracy: 0.8838\n",
            "Epoch 357/400\n",
            "625/625 [==============================] - 25s 39ms/step - loss: 0.2320 - accuracy: 0.9207 - val_loss: 0.3149 - val_accuracy: 0.8984\n",
            "Epoch 358/400\n",
            "625/625 [==============================] - 25s 39ms/step - loss: 0.2286 - accuracy: 0.9224 - val_loss: 0.3449 - val_accuracy: 0.8929\n",
            "Epoch 359/400\n",
            "625/625 [==============================] - 25s 40ms/step - loss: 0.2275 - accuracy: 0.9207 - val_loss: 0.3493 - val_accuracy: 0.8890\n",
            "Epoch 360/400\n",
            "625/625 [==============================] - 25s 39ms/step - loss: 0.2293 - accuracy: 0.9199 - val_loss: 0.3518 - val_accuracy: 0.8875\n",
            "Epoch 361/400\n",
            "625/625 [==============================] - 25s 39ms/step - loss: 0.2243 - accuracy: 0.9217 - val_loss: 0.3610 - val_accuracy: 0.8882\n",
            "Epoch 362/400\n",
            "625/625 [==============================] - 24s 39ms/step - loss: 0.2254 - accuracy: 0.9226 - val_loss: 0.3300 - val_accuracy: 0.8954\n",
            "Epoch 363/400\n",
            "625/625 [==============================] - 25s 39ms/step - loss: 0.2281 - accuracy: 0.9216 - val_loss: 0.3213 - val_accuracy: 0.8965\n",
            "Epoch 364/400\n",
            "625/625 [==============================] - 25s 39ms/step - loss: 0.2320 - accuracy: 0.9198 - val_loss: 0.3460 - val_accuracy: 0.8930\n",
            "Epoch 365/400\n",
            "625/625 [==============================] - 25s 39ms/step - loss: 0.2211 - accuracy: 0.9222 - val_loss: 0.3428 - val_accuracy: 0.8905\n",
            "Epoch 366/400\n",
            "625/625 [==============================] - 25s 40ms/step - loss: 0.2232 - accuracy: 0.9216 - val_loss: 0.3511 - val_accuracy: 0.8884\n",
            "Epoch 367/400\n",
            "625/625 [==============================] - 25s 40ms/step - loss: 0.2260 - accuracy: 0.9219 - val_loss: 0.3172 - val_accuracy: 0.8978\n",
            "Epoch 368/400\n",
            "625/625 [==============================] - 25s 40ms/step - loss: 0.2234 - accuracy: 0.9227 - val_loss: 0.3284 - val_accuracy: 0.8946\n",
            "Epoch 369/400\n",
            "625/625 [==============================] - 25s 40ms/step - loss: 0.2241 - accuracy: 0.9229 - val_loss: 0.3105 - val_accuracy: 0.8970\n",
            "Epoch 370/400\n",
            "625/625 [==============================] - 24s 39ms/step - loss: 0.2275 - accuracy: 0.9207 - val_loss: 0.3431 - val_accuracy: 0.8876\n",
            "Epoch 371/400\n",
            "625/625 [==============================] - 25s 39ms/step - loss: 0.2237 - accuracy: 0.9228 - val_loss: 0.3307 - val_accuracy: 0.8923\n",
            "Epoch 372/400\n",
            "625/625 [==============================] - 25s 39ms/step - loss: 0.2267 - accuracy: 0.9219 - val_loss: 0.3186 - val_accuracy: 0.8974\n",
            "Epoch 373/400\n",
            "625/625 [==============================] - 25s 39ms/step - loss: 0.2293 - accuracy: 0.9206 - val_loss: 0.3308 - val_accuracy: 0.8930\n",
            "Epoch 374/400\n",
            "625/625 [==============================] - 25s 39ms/step - loss: 0.2295 - accuracy: 0.9211 - val_loss: 0.3625 - val_accuracy: 0.8853\n",
            "Epoch 375/400\n",
            "625/625 [==============================] - 25s 40ms/step - loss: 0.2254 - accuracy: 0.9223 - val_loss: 0.3668 - val_accuracy: 0.8838\n",
            "Epoch 376/400\n",
            "625/625 [==============================] - 25s 39ms/step - loss: 0.2245 - accuracy: 0.9240 - val_loss: 0.3501 - val_accuracy: 0.8906\n",
            "Epoch 377/400\n",
            "625/625 [==============================] - 24s 39ms/step - loss: 0.2195 - accuracy: 0.9239 - val_loss: 0.3334 - val_accuracy: 0.8941\n",
            "Epoch 378/400\n",
            "625/625 [==============================] - 25s 39ms/step - loss: 0.2224 - accuracy: 0.9238 - val_loss: 0.3537 - val_accuracy: 0.8886\n",
            "Epoch 379/400\n",
            "625/625 [==============================] - 25s 39ms/step - loss: 0.2249 - accuracy: 0.9226 - val_loss: 0.3196 - val_accuracy: 0.8950\n",
            "Epoch 380/400\n",
            "625/625 [==============================] - 25s 39ms/step - loss: 0.2227 - accuracy: 0.9236 - val_loss: 0.3190 - val_accuracy: 0.8945\n",
            "Epoch 381/400\n",
            "625/625 [==============================] - 25s 40ms/step - loss: 0.2265 - accuracy: 0.9213 - val_loss: 0.3918 - val_accuracy: 0.8815\n",
            "Epoch 382/400\n",
            "625/625 [==============================] - 25s 39ms/step - loss: 0.2223 - accuracy: 0.9226 - val_loss: 0.3451 - val_accuracy: 0.8922\n",
            "Epoch 383/400\n",
            "625/625 [==============================] - 25s 39ms/step - loss: 0.2221 - accuracy: 0.9242 - val_loss: 0.3245 - val_accuracy: 0.8958\n",
            "Epoch 384/400\n",
            "625/625 [==============================] - 25s 39ms/step - loss: 0.2251 - accuracy: 0.9232 - val_loss: 0.3864 - val_accuracy: 0.8816\n",
            "Epoch 385/400\n",
            "625/625 [==============================] - 25s 39ms/step - loss: 0.2245 - accuracy: 0.9221 - val_loss: 0.3028 - val_accuracy: 0.9028\n",
            "Epoch 386/400\n",
            "625/625 [==============================] - 24s 39ms/step - loss: 0.2229 - accuracy: 0.9226 - val_loss: 0.3062 - val_accuracy: 0.9020\n",
            "Epoch 387/400\n",
            "625/625 [==============================] - 25s 39ms/step - loss: 0.2264 - accuracy: 0.9214 - val_loss: 0.3274 - val_accuracy: 0.8969\n",
            "Epoch 388/400\n",
            "625/625 [==============================] - 25s 39ms/step - loss: 0.2228 - accuracy: 0.9220 - val_loss: 0.2990 - val_accuracy: 0.9045\n",
            "Epoch 389/400\n",
            "625/625 [==============================] - 24s 39ms/step - loss: 0.2156 - accuracy: 0.9251 - val_loss: 0.3146 - val_accuracy: 0.9004\n",
            "Epoch 390/400\n",
            "625/625 [==============================] - 25s 39ms/step - loss: 0.2214 - accuracy: 0.9236 - val_loss: 0.3619 - val_accuracy: 0.8863\n",
            "Epoch 391/400\n",
            "625/625 [==============================] - 25s 39ms/step - loss: 0.2189 - accuracy: 0.9241 - val_loss: 0.3253 - val_accuracy: 0.8937\n",
            "Epoch 392/400\n",
            "625/625 [==============================] - 24s 39ms/step - loss: 0.2241 - accuracy: 0.9226 - val_loss: 0.3548 - val_accuracy: 0.8887\n",
            "Epoch 393/400\n",
            "625/625 [==============================] - 24s 39ms/step - loss: 0.2215 - accuracy: 0.9233 - val_loss: 0.3100 - val_accuracy: 0.8988\n",
            "Epoch 394/400\n",
            "625/625 [==============================] - 25s 40ms/step - loss: 0.2213 - accuracy: 0.9237 - val_loss: 0.3092 - val_accuracy: 0.8999\n",
            "Epoch 395/400\n",
            "625/625 [==============================] - 24s 39ms/step - loss: 0.2238 - accuracy: 0.9230 - val_loss: 0.3063 - val_accuracy: 0.9000\n",
            "Epoch 396/400\n",
            "625/625 [==============================] - 24s 39ms/step - loss: 0.2202 - accuracy: 0.9233 - val_loss: 0.3993 - val_accuracy: 0.8801\n",
            "Epoch 397/400\n",
            "625/625 [==============================] - 24s 39ms/step - loss: 0.2185 - accuracy: 0.9245 - val_loss: 0.3443 - val_accuracy: 0.8924\n",
            "Epoch 398/400\n",
            "625/625 [==============================] - 24s 39ms/step - loss: 0.2176 - accuracy: 0.9250 - val_loss: 0.3091 - val_accuracy: 0.8979\n",
            "Epoch 399/400\n",
            "625/625 [==============================] - 24s 39ms/step - loss: 0.2202 - accuracy: 0.9248 - val_loss: 0.3232 - val_accuracy: 0.8965\n",
            "Epoch 400/400\n",
            "625/625 [==============================] - 24s 39ms/step - loss: 0.2214 - accuracy: 0.9233 - val_loss: 0.3482 - val_accuracy: 0.8894\n"
          ],
          "name": "stdout"
        },
        {
          "output_type": "display_data",
          "data": {
            "image/png": "[encoded data removed]",
            "text/plain": [
              "<Figure size 432x288 with 1 Axes>"
            ]
          },
          "metadata": {
            "tags": [],
            "needs_background": "light"
          }
        }
      ]
    },
    {
      "cell_type": "code",
      "metadata": {
        "id": "7pm9gHvBD0ff",
        "colab": {
          "base_uri": "https://localhost:8080/",
          "height": 34
        },
        "outputId": "debf35c8-addc-453d-c518-51da49f54e16"
      },
      "source": [
        "scores = model.evaluate(x_test10, y_test10, verbose=1)"
      ],
      "execution_count": null,
      "outputs": [
        {
          "output_type": "stream",
          "text": [
            "313/313 [==============================] - 1s 4ms/step - loss: 0.3979 - accuracy: 0.8806\n"
          ],
          "name": "stdout"
        }
      ]
    },
    {
      "cell_type": "code",
      "metadata": {
        "id": "hpSJceRmPA_4",
        "colab": {
          "base_uri": "https://localhost:8080/",
          "height": 50
        },
        "outputId": "f6dc980b-92c3-43a3-eea3-a306ff751083"
      },
      "source": [
        "print('Точность модели на проверочной выборке = ', history.history['val_accuracy'][-1])\n",
        "print('Точность модели на тестовой выборке = ', scores[1])"
      ],
      "execution_count": null,
      "outputs": [
        {
          "output_type": "stream",
          "text": [
            "Точность модели на проверочной выборке =  0.8894000053405762\n",
            "Точность модели на тестовой выборке =  0.8805999755859375\n"
          ],
          "name": "stdout"
        }
      ]
    },
    {
      "cell_type": "code",
      "metadata": {
        "id": "R0JGKkohPTFv"
      },
      "source": [
        ""
      ],
      "execution_count": null,
      "outputs": []
    }
  ]
}